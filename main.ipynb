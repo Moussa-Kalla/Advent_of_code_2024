{
 "cells": [
  {
   "cell_type": "markdown",
   "metadata": {},
   "source": [
    "# Day 1 "
   ]
  },
  {
   "cell_type": "markdown",
   "metadata": {},
   "source": [
    "# Part1\n",
    "\n",
    "Soient deux listes de nbrs réels, **x** et **y**, toutes deux strictement croissantes :\n",
    "$$\n",
    "x = \\begin{pmatrix}\n",
    "x_0 \\\\\n",
    "x_1 \\\\\n",
    "\\vdots \\\\\n",
    "x_n\n",
    "\\end{pmatrix}\n",
    ", \\quad\n",
    "y = \\begin{pmatrix}\n",
    "y_0 \\\\\n",
    "y_1 \\\\\n",
    "\\vdots \\\\\n",
    "y_n\n",
    "\\end{pmatrix}\n",
    "$$\n",
    "La distance de la norme 1 ou distance de Manhattan entre entre **x** et **y**  est définie comme suit :\n",
    "$$D(x,y) = \\sum_{i = 0}^n |x_i - y_i|$$"
   ]
  },
  {
   "cell_type": "code",
   "execution_count": 54,
   "metadata": {},
   "outputs": [
    {
     "data": {
      "text/plain": [
       "11"
      ]
     },
     "execution_count": 54,
     "metadata": {},
     "output_type": "execute_result"
    }
   ],
   "source": [
    "liste1 =  [3, 4, 2, 1, 3 ,3]\n",
    "liste2 = [4, 3, 5, 3, 9, 3]\n",
    "\n",
    "def total_distance(liste1, liste2):\n",
    "  liste1.sort()\n",
    "  liste2.sort()\n",
    "\n",
    "  distance = 0\n",
    "  for num1, num2 in zip(liste1, liste2):\n",
    "    distance += abs(num1 - num2)\n",
    "\n",
    "  return distance\n",
    "resul = total_distance(liste1, liste2)\n",
    "resul"
   ]
  },
  {
   "cell_type": "code",
   "execution_count": 55,
   "metadata": {},
   "outputs": [
    {
     "data": {
      "text/plain": [
       "1830467"
      ]
     },
     "execution_count": 55,
     "metadata": {},
     "output_type": "execute_result"
    }
   ],
   "source": [
    "\n",
    "lien_fichier = 'C:\\\\Python\\\\Advent_of_code_2024\\\\Input_Data\\\\Day_1.txt'\n",
    "\n",
    "liste1 = []\n",
    "liste2 = []\n",
    "\n",
    "with open(lien_fichier, 'r') as f:\n",
    "    for ligne in f:\n",
    "        num1, num2 = map(int, ligne.split())\n",
    "        liste1.append(num1)\n",
    "        liste2.append(num2)\n",
    "\n",
    "resulta = total_distance(liste1, liste2)\n",
    "resulta"
   ]
  },
  {
   "cell_type": "markdown",
   "metadata": {},
   "source": [
    "## Part 2"
   ]
  },
  {
   "cell_type": "code",
   "execution_count": 56,
   "metadata": {},
   "outputs": [
    {
     "data": {
      "text/plain": [
       "26674158"
      ]
     },
     "execution_count": 56,
     "metadata": {},
     "output_type": "execute_result"
    }
   ],
   "source": [
    "def score_similarité(liste1, liste2):\n",
    "    similarité = 0\n",
    "    for num in liste1:\n",
    "        similarité += num * liste2.count(num)\n",
    "    return similarité\n",
    "\n",
    "resulta = score_similarité(liste1, liste2)\n",
    "resulta"
   ]
  },
  {
   "cell_type": "markdown",
   "metadata": {},
   "source": [
    "# Day 2"
   ]
  },
  {
   "cell_type": "code",
   "execution_count": 4,
   "metadata": {},
   "outputs": [],
   "source": [
    "lien_fichier = 'C:\\\\Python\\\\Advent_of_code_2024\\\\Input_Data\\\\Day_2.txt'\n",
    "with open(lien_fichier, 'r') as fichier:\n",
    "    rapports = [[int(nbr) for nbr in lgn.strip().split()] for lgn in fichier]"
   ]
  },
  {
   "cell_type": "markdown",
   "metadata": {},
   "source": [
    "## Part 1"
   ]
  },
  {
   "cell_type": "code",
   "execution_count": 5,
   "metadata": {},
   "outputs": [
    {
     "data": {
      "text/plain": [
       "279"
      ]
     },
     "execution_count": 5,
     "metadata": {},
     "output_type": "execute_result"
    }
   ],
   "source": [
    "def est_rapport_sur(rapport):\n",
    "\n",
    "    direct_o = None \n",
    "\n",
    "    for i in range(1, len(rapport)):\n",
    "        difference = rapport[i] - rapport[i - 1]\n",
    "        if direct_o is None:\n",
    "            direct_o = \"croissante\" if difference > 0 else \"décroissante\"\n",
    "        if (direct_o == \"croissante\" and not 1 <= difference <= 3) or \\\n",
    "           (direct_o == \"décroissante\" and not -3 <= difference <= -1):\n",
    "            return False\n",
    "    return True\n",
    "\n",
    "def compter_rapports_surs(rapports):\n",
    "\n",
    "    compteur_surs = 0\n",
    "    for rapport in rapports:\n",
    "        if est_rapport_sur(rapport):\n",
    "            compteur_surs += 1\n",
    "    return compteur_surs\n",
    "\n",
    "resulta = compter_rapports_surs(rapports)\n",
    "resulta"
   ]
  },
  {
   "cell_type": "markdown",
   "metadata": {},
   "source": [
    "## Part 2"
   ]
  },
  {
   "cell_type": "code",
   "execution_count": 6,
   "metadata": {},
   "outputs": [
    {
     "data": {
      "text/plain": [
       "343"
      ]
     },
     "execution_count": 6,
     "metadata": {},
     "output_type": "execute_result"
    }
   ],
   "source": [
    "\n",
    "def est_rapport_sur(rapport):\n",
    "    direction = None \n",
    "\n",
    "    for i in range(1, len(rapport)):\n",
    "        difference = rapport[i] - rapport[i - 1]\n",
    "        if direction is None:\n",
    "            direction = \"croissante\" if difference > 0 else \"décroissante\"\n",
    "        if (direction == \"croissante\" and not 1 <= difference <= 3) or \\\n",
    "           (direction == \"décroissante\" and not -3 <= difference <= -1):\n",
    "            return False\n",
    "    return True\n",
    "\n",
    "def peut_devenir_sur(rapport):\n",
    "    for i in range(len(rapport)):\n",
    "        nouveau_rapport = rapport[:i] + rapport[i+1:]\n",
    "        if est_rapport_sur(nouveau_rapport):\n",
    "            return True\n",
    "    return False\n",
    "\n",
    "def compter_rapports_surs_avec_dampener(rapports):\n",
    "    compteur_surs = 0\n",
    "    for rapport in rapports:\n",
    "        if est_rapport_sur(rapport) or peut_devenir_sur(rapport):\n",
    "            compteur_surs += 1\n",
    "    return compteur_surs\n",
    "\n",
    "with open(lien_fichier, 'r') as fichier:\n",
    "    rapports = [[int(nbr) for nbr in ligne.strip().split()] for ligne in fichier]\n",
    "\n",
    "resulta = compter_rapports_surs_avec_dampener(rapports)\n",
    "resulta\n"
   ]
  },
  {
   "cell_type": "markdown",
   "metadata": {},
   "source": [
    "# Day 3"
   ]
  },
  {
   "cell_type": "code",
   "execution_count": 58,
   "metadata": {},
   "outputs": [],
   "source": [
    "lien_fichier = 'C:\\\\Python\\\\Advent_of_code_2024\\\\Input_Data\\\\Day_3.txt'"
   ]
  },
  {
   "cell_type": "markdown",
   "metadata": {},
   "source": [
    "## Part 1"
   ]
  },
  {
   "cell_type": "code",
   "execution_count": 59,
   "metadata": {},
   "outputs": [
    {
     "data": {
      "text/plain": [
       "161085926"
      ]
     },
     "execution_count": 59,
     "metadata": {},
     "output_type": "execute_result"
    }
   ],
   "source": [
    "import re\n",
    "\n",
    "def calcul_somme_produit_mul(lien_fichier):\n",
    "\n",
    "    with open(lien_fichier, 'r') as file:\n",
    "        data = file.read()\n",
    "\n",
    "    pattern = r\"mul\\((\\d+),(\\d+)\\)\"\n",
    "\n",
    "    corresp = re.findall(pattern, data)\n",
    "\n",
    "    somme_totale = sum(int(x) * int(y) for x, y in corresp)\n",
    "\n",
    "    return somme_totale, corresp\n",
    "\n",
    "somme_totale, corresp = calcul_somme_produit_mul(lien_fichier)\n",
    "somme_totale"
   ]
  },
  {
   "cell_type": "markdown",
   "metadata": {},
   "source": [
    "# Part 2"
   ]
  },
  {
   "cell_type": "code",
   "execution_count": 60,
   "metadata": {},
   "outputs": [
    {
     "data": {
      "text/plain": [
       "82045421"
      ]
     },
     "execution_count": 60,
     "metadata": {},
     "output_type": "execute_result"
    }
   ],
   "source": [
    "def calcul_somme_produit_conditionnelle_mul(lien_fichier):\n",
    "    with open(lien_fichier, 'r') as file:\n",
    "        data_texte = file.read()\n",
    "    pattern = r\"(mul\\((\\d{1,3}),(\\d{1,3})\\)|do\\(\\)|don't\\(\\))\"\n",
    "    instructions = re.findall(pattern, data_texte)\n",
    "\n",
    "    enabled = True\n",
    "    resulta = 0\n",
    "\n",
    "    for inst in instructions:\n",
    "        match inst[0]:\n",
    "            case \"do()\":\n",
    "                    enabled = True\n",
    "            case \"don't()\":\n",
    "                    enabled = False\n",
    "            case _ if enabled:\n",
    "                    resulta += int(inst[1]) * int(inst[2])\n",
    "    return resulta, instructions\n",
    "\n",
    "resulta, instructions = calcul_somme_produit_conditionnelle_mul(lien_fichier)\n",
    "resulta"
   ]
  },
  {
   "cell_type": "markdown",
   "metadata": {},
   "source": [
    "# Day 4"
   ]
  },
  {
   "cell_type": "code",
   "execution_count": 61,
   "metadata": {},
   "outputs": [],
   "source": [
    "lien_fichier = 'C:\\\\Python\\\\Advent_of_code_2024\\\\Input_Data\\\\Day_4.txt'"
   ]
  },
  {
   "cell_type": "markdown",
   "metadata": {},
   "source": [
    "## Part1"
   ]
  },
  {
   "cell_type": "code",
   "execution_count": 62,
   "metadata": {},
   "outputs": [
    {
     "data": {
      "text/plain": [
       "2613"
      ]
     },
     "execution_count": 62,
     "metadata": {},
     "output_type": "execute_result"
    }
   ],
   "source": [
    "def nbr_xmas(lien_fichier, mot=\"XMAS\"):\n",
    "    with open(lien_fichier, 'r') as file:\n",
    "        grille = [list(line.strip()) for line in file.readlines()]  \n",
    "\n",
    "    lgn, col = len(grille), len(grille[0])\n",
    "    word_length = len(mot)\n",
    "    nbr = 0\n",
    "    direct_os = [ (0, 1), (1, 0), (1, 1), (1, -1), (0, -1), (-1, 0), (-1, -1), (-1, 1) ]\n",
    "\n",
    "    def is_word_at(x, y, dx, dy):\n",
    "        for i in range(word_length):\n",
    "            nx, ny = x + i * dx, y + i * dy\n",
    "            if nx < 0 or ny < 0 or nx >= lgn or ny >= col or grille[nx][ny] != mot[i]:\n",
    "                return False\n",
    "        return True\n",
    "\n",
    "    for i in range(lgn):\n",
    "        for j in range(col):\n",
    "            for dx, dy in direct_os:\n",
    "                if is_word_at(i, j, dx, dy):\n",
    "                    nbr += 1\n",
    "    return nbr\n",
    "\n",
    "resulta = nbr_xmas(lien_fichier)\n",
    "resulta"
   ]
  },
  {
   "cell_type": "markdown",
   "metadata": {},
   "source": [
    "## Part 2"
   ]
  },
  {
   "cell_type": "code",
   "execution_count": 63,
   "metadata": {},
   "outputs": [
    {
     "data": {
      "text/plain": [
       "1905"
      ]
     },
     "execution_count": 63,
     "metadata": {},
     "output_type": "execute_result"
    }
   ],
   "source": [
    "def nbr_x_mas(lien_fichier):\n",
    "        with open(lien_fichier, 'r') as file:\n",
    "            grille = [list(line.strip()) for line in file.readlines()]  \n",
    "            \n",
    "        lgn, col = len(grille), len(grille[0])\n",
    "        nbr = 0\n",
    "        lettres = {\"M\", \"S\"}\n",
    "        \n",
    "        for i in range(1, lgn - 1):\n",
    "            for j in range(1, col - 1):\n",
    "                if grille[i][j] == \"A\":\n",
    "                    if {grille[i - 1][j - 1], grille[i + 1][j + 1]} == lettres and {grille[i - 1][j + 1], grille[i + 1][j - 1]} == lettres:\n",
    "                        nbr += 1\n",
    "\n",
    "        return nbr\n",
    "resulta = nbr_x_mas(lien_fichier)\n",
    "resulta"
   ]
  },
  {
   "cell_type": "markdown",
   "metadata": {},
   "source": [
    "# Day 5"
   ]
  },
  {
   "cell_type": "code",
   "execution_count": 64,
   "metadata": {},
   "outputs": [],
   "source": [
    "lien_fichier = 'C:\\\\Python\\\\Advent_of_code_2024\\\\Input_Data\\\\Day_5.txt'\n",
    "\n",
    "def lecture_fichier_txt(lien_fichier):\n",
    "    with open(lien_fichier, 'r') as fichier:\n",
    "        lignes = fichier.readlines()\n",
    "\n",
    "    regles = []\n",
    "    ms_a_j = []\n",
    "    en_mode_ms_a_j = False\n",
    "\n",
    "    for ligne in lignes:\n",
    "        ligne = ligne.strip()\n",
    "        if not ligne:\n",
    "            en_mode_ms_a_j = True\n",
    "            continue\n",
    "        if en_mode_ms_a_j:\n",
    "            ms_a_j.append(list(map(int, ligne.split(','))))\n",
    "        else:\n",
    "            regles.append(list(map(int, ligne.split('|'))))\n",
    "    return regles, ms_a_j\n",
    "\n",
    "liste_regles, liste_ms_a_j = lecture_fichier_txt(lien_fichier)"
   ]
  },
  {
   "cell_type": "markdown",
   "metadata": {},
   "source": [
    "## Part1"
   ]
  },
  {
   "cell_type": "code",
   "execution_count": 65,
   "metadata": {},
   "outputs": [
    {
     "data": {
      "text/plain": [
       "4766"
      ]
     },
     "execution_count": 65,
     "metadata": {},
     "output_type": "execute_result"
    }
   ],
   "source": [
    "from collections import defaultdict\n",
    "\n",
    "def const_graphe(liste_regles):\n",
    "    graphe = defaultdict(list)\n",
    "    for origine, destination in liste_regles:\n",
    "        graphe[origine].append(destination)\n",
    "    return graphe\n",
    "\n",
    "def m_a_j_valide(m_a_j, graphe):\n",
    "    index_page = {page: i for i, page in enumerate(m_a_j)}\n",
    "    for origine, destinations in graphe.items():\n",
    "        if origine in index_page:\n",
    "            for destination in destinations:\n",
    "                if destination in index_page and index_page[origine] > index_page[destination]:\n",
    "                    return False\n",
    "    return True\n",
    "\n",
    "def trouver_page_milieu(m_a_j):\n",
    "    index_milieu = len(m_a_j) // 2\n",
    "    return m_a_j[index_milieu]\n",
    "\n",
    "def traiter_ms_a_j(liste_regles, liste_ms_a_j):\n",
    "    graphe = const_graphe(liste_regles)\n",
    "    ms_a_j_valides = []\n",
    "    for m_a_j in liste_ms_a_j:\n",
    "        if m_a_j_valide(m_a_j, graphe):\n",
    "            ms_a_j_valides.append(m_a_j)\n",
    "    somme_milieux = sum(trouver_page_milieu(m_a_j) for m_a_j in ms_a_j_valides)\n",
    "    return somme_milieux, ms_a_j_valides\n",
    "\n",
    "\n",
    "resulta, ms_a_j_valides = traiter_ms_a_j(liste_regles, liste_ms_a_j)\n",
    "resulta"
   ]
  },
  {
   "cell_type": "markdown",
   "metadata": {},
   "source": [
    "## Part2"
   ]
  },
  {
   "cell_type": "code",
   "execution_count": 66,
   "metadata": {},
   "outputs": [
    {
     "data": {
      "text/plain": [
       "6257"
      ]
     },
     "execution_count": 66,
     "metadata": {},
     "output_type": "execute_result"
    }
   ],
   "source": [
    "from collections import deque\n",
    "\n",
    "def tri_topologique(m_a_j, graphe):\n",
    "    degre_ent = defaultdict(int)\n",
    "    liste_adj = defaultdict(list)\n",
    "    ens_m_a_j = set(m_a_j)\n",
    "\n",
    "    for x in ens_m_a_j:\n",
    "        for y in graphe.get(x, []):\n",
    "            if y in ens_m_a_j:\n",
    "                liste_adj[x].append(y)\n",
    "                degre_ent[y] += 1\n",
    "\n",
    "    file = deque([x for x in ens_m_a_j if degre_ent[x] == 0])\n",
    "    m_a_j_triee = []\n",
    "\n",
    "    while file:\n",
    "        courant = file.popleft()\n",
    "        m_a_j_triee.append(courant)\n",
    "        for voisin in liste_adj[courant]:\n",
    "            degre_ent[voisin] -= 1\n",
    "            if degre_ent[voisin] == 0:\n",
    "                file.append(voisin)\n",
    "    return m_a_j_triee\n",
    "\n",
    "def corriger_ms_a_j(liste_regles, liste_ms_a_j):\n",
    "    graphe = const_graphe(liste_regles)\n",
    "    ms_a_j_incorrectes = [m_a_j for m_a_j in liste_ms_a_j if not m_a_j_valide(m_a_j, graphe)]\n",
    "    ms_a_j_corrigees = []\n",
    "    for m_a_j in ms_a_j_incorrectes:\n",
    "        m_a_j_corrigee = tri_topologique(m_a_j, graphe)\n",
    "        ms_a_j_corrigees.append(m_a_j_corrigee)\n",
    "    somme_milieux = sum(trouver_page_milieu(m_a_j) for m_a_j in ms_a_j_corrigees)\n",
    "    return somme_milieux, ms_a_j_corrigees\n",
    "\n",
    "resulta, ms_a_j_corrigees = corriger_ms_a_j(liste_regles, liste_ms_a_j)\n",
    "resulta"
   ]
  },
  {
   "cell_type": "markdown",
   "metadata": {},
   "source": [
    "# Day 6"
   ]
  },
  {
   "cell_type": "code",
   "execution_count": 67,
   "metadata": {},
   "outputs": [],
   "source": [
    "lien_fichier = 'C:\\\\Python\\\\Advent_of_code_2024\\\\Input_Data\\\\Day_6.txt'\n",
    "\n",
    "def lire_fich_txt(lien_fichier):\n",
    "    with open(lien_fichier, 'r') as fichier:\n",
    "        return [list(ligne.strip()) for ligne in fichier]\n",
    "    \n",
    "grille = lire_fich_txt(lien_fichier)"
   ]
  },
  {
   "cell_type": "markdown",
   "metadata": {},
   "source": [
    "## Part1"
   ]
  },
  {
   "cell_type": "code",
   "execution_count": 68,
   "metadata": {},
   "outputs": [
    {
     "data": {
      "text/plain": [
       "5453"
      ]
     },
     "execution_count": 68,
     "metadata": {},
     "output_type": "execute_result"
    }
   ],
   "source": [
    "def simul_chmin(grille):\n",
    "    direct_os = [(-1, 0), (0, 1), (1, 0), (0, -1)]\n",
    "    direct_o_actu = 0 \n",
    "    poss_visitees = set() \n",
    "\n",
    "    lignes = len(grille)\n",
    "    cols = len(grille[0])\n",
    "    for ligne in range(lignes):\n",
    "        for col in range(cols):\n",
    "            if grille[ligne][col] in \"^>v<\":\n",
    "                x, y = ligne, col\n",
    "                if grille[ligne][col] == \">\":\n",
    "                    direct_o_actu = 1\n",
    "                elif grille[ligne][col] == \"v\":\n",
    "                    direct_o_actu = 2\n",
    "                elif grille[ligne][col] == \"<\":\n",
    "                    direct_o_actu = 3\n",
    "                grille[ligne][col] = \".\" \n",
    "\n",
    "    while 0 <= x < lignes and 0 <= y < cols:\n",
    "        poss_visitees.add((x, y)) \n",
    "        dx, dy = direct_os[direct_o_actu]\n",
    "        nx, ny = x + dx, y + dy\n",
    "\n",
    "        if 0 <= nx < lignes and 0 <= ny < cols and grille[nx][ny] == \"#\":\n",
    "            direct_o_actu = (direct_o_actu + 1) % 4\n",
    "        else:\n",
    "            x, y = nx, ny\n",
    "    return len(poss_visitees)\n",
    "\n",
    "resulta = simul_chmin(grille)\n",
    "resulta\n"
   ]
  },
  {
   "cell_type": "markdown",
   "metadata": {},
   "source": [
    "## Part2"
   ]
  },
  {
   "cell_type": "code",
   "execution_count": 69,
   "metadata": {},
   "outputs": [
    {
     "data": {
      "text/plain": [
       "2188"
      ]
     },
     "execution_count": 69,
     "metadata": {},
     "output_type": "execute_result"
    }
   ],
   "source": [
    "def simul_chmin_bcl(grille, obst=None):\n",
    "    direct_os = [(-1, 0), (0, 1), (1, 0), (0, -1)]\n",
    "    direct_o_actu = 0 \n",
    "    poss_visitees = set() \n",
    "    seq_visitee = [] \n",
    "\n",
    "    lignes = len(grille)\n",
    "    cols = len(grille[0])\n",
    "    for ligne in range(lignes):\n",
    "        for col in range(cols):\n",
    "            if grille[ligne][col] in \"^>v<\":\n",
    "                x, y = ligne, col\n",
    "                if grille[ligne][col] == \">\":\n",
    "                    direct_o_actu = 1\n",
    "                elif grille[ligne][col] == \"v\":\n",
    "                    direct_o_actu = 2\n",
    "                elif grille[ligne][col] == \"<\":\n",
    "                    direct_o_actu = 3\n",
    "                grille[ligne][col] = \".\"\n",
    "    if obst:\n",
    "        grille[obst[0]][obst[1]] = \"#\"\n",
    "\n",
    "    while 0 <= x < lignes and 0 <= y < cols:\n",
    "        etat_act = (x, y, direct_o_actu)\n",
    "        if etat_act in poss_visitees:\n",
    "            return True\n",
    "        \n",
    "        poss_visitees.add(etat_act)\n",
    "        seq_visitee.append(etat_act)\n",
    "\n",
    "        dx, dy = direct_os[direct_o_actu]\n",
    "        nx, ny = x + dx, y + dy\n",
    "\n",
    "        if 0 <= nx < lignes and 0 <= ny < cols and grille[nx][ny] == \"#\":\n",
    "            direct_o_actu = (direct_o_actu + 1) % 4\n",
    "        else:\n",
    "            x, y = nx, ny\n",
    "    return False\n",
    "\n",
    "def trouver_poss_obst(grille):\n",
    "    lignes = len(grille)\n",
    "    cols = len(grille[0])\n",
    "    poss_possibles = []\n",
    "\n",
    "    for ligne in range(lignes):\n",
    "        for col in range(cols):\n",
    "            if grille[ligne][col] == \"#\" or grille[ligne][col] in \"^>v<\":\n",
    "                continue\n",
    "            if simul_chmin_bcl([ligne[:] for ligne in grille], (ligne, col)):\n",
    "                poss_possibles.append((ligne, col))\n",
    "\n",
    "    return poss_possibles\n",
    "\n",
    "grille = lire_fich_txt(lien_fichier)\n",
    "\n",
    "resulta = len(trouver_poss_obst(grille))\n",
    "resulta\n"
   ]
  },
  {
   "cell_type": "markdown",
   "metadata": {},
   "source": [
    "# Day 7"
   ]
  },
  {
   "cell_type": "code",
   "execution_count": 70,
   "metadata": {},
   "outputs": [],
   "source": [
    "lien_fichier = 'C:\\\\Python\\\\Advent_of_code_2024\\\\Input_Data\\\\Day_7.txt'\n",
    "\n",
    "def lire_fich_txt(lien_fichier):\n",
    "    equ = []\n",
    "    with open(lien_fichier, 'r') as fichier:\n",
    "        for ligne in fichier:\n",
    "            cible, nbrs = ligne.strip().split(\":\")\n",
    "            cible = int(cible)\n",
    "            nbrs = list(map(int, nbrs.strip().split()))\n",
    "            equ.append((cible, nbrs))\n",
    "    return equ\n",
    "\n",
    "equ = lire_fich_txt(lien_fichier)"
   ]
  },
  {
   "cell_type": "markdown",
   "metadata": {},
   "source": [
    "## Part1"
   ]
  },
  {
   "cell_type": "code",
   "execution_count": 71,
   "metadata": {},
   "outputs": [
    {
     "data": {
      "text/plain": [
       "259425306213"
      ]
     },
     "execution_count": 71,
     "metadata": {},
     "output_type": "execute_result"
    }
   ],
   "source": [
    "from itertools import product\n",
    "\n",
    "def eval_exp(nbrs,ops):\n",
    "    resul = nbrs[0]\n",
    "    for i, op in enumerate(ops):\n",
    "        if op == \"+\":\n",
    "            resul = nbrs[i + 1]\n",
    "        elif op == \"*\":\n",
    "            resul *= nbrs[i + 1]\n",
    "    return resul\n",
    "\n",
    "def equ_valide(cible, nbrs):\n",
    "    comb = product([\"+\", \"*\"], repeat=len(nbrs) - 1)\n",
    "    for ops in comb:\n",
    "        if eval_exp(nbrs, ops) == cible:\n",
    "            return True\n",
    "    return False\n",
    "\n",
    "def cal_somme_equ_valides(equ):\n",
    "    somme = 0\n",
    "    for cible, nbrs in equ:\n",
    "        if equ_valide(cible, nbrs):\n",
    "            somme += cible\n",
    "    return somme\n",
    "\n",
    "resulta = cal_somme_equ_valides(equ)\n",
    "resulta"
   ]
  },
  {
   "cell_type": "markdown",
   "metadata": {},
   "source": [
    "## Part2"
   ]
  },
  {
   "cell_type": "code",
   "execution_count": 72,
   "metadata": {},
   "outputs": [
    {
     "data": {
      "text/plain": [
       "145397611075341"
      ]
     },
     "execution_count": 72,
     "metadata": {},
     "output_type": "execute_result"
    }
   ],
   "source": [
    "from itertools import product\n",
    "\n",
    "\n",
    "def eval_exp(nbrs, ops):\n",
    "    resul = nbrs[0]\n",
    "    for i, op in enumerate(ops):\n",
    "        if op == \"+\":\n",
    "            resul += nbrs[i + 1]\n",
    "        elif op == \"*\":\n",
    "            resul *= nbrs[i + 1]\n",
    "        elif op == \"||\":\n",
    "            resul = int(str(resul) + str(nbrs[i + 1]))\n",
    "    return resul\n",
    "\n",
    "def est_equ_valide(cible, nbrs):\n",
    "    comb = product([\"+\", \"*\", \"||\"], repeat=len(nbrs) - 1)\n",
    "    for ops in comb:\n",
    "        if eval_exp(nbrs, ops) == cible:\n",
    "            return True\n",
    "    return False\n",
    "\n",
    "def cal_somme_equ_valides(equ):\n",
    "    somme = 0\n",
    "    for cible, nbrs in equ:\n",
    "        if est_equ_valide(cible, nbrs):\n",
    "            somme += cible\n",
    "    return somme\n",
    "\n",
    "resulta = cal_somme_equ_valides(equ)\n",
    "resulta"
   ]
  },
  {
   "cell_type": "markdown",
   "metadata": {},
   "source": [
    "# Day 8"
   ]
  },
  {
   "cell_type": "code",
   "execution_count": 73,
   "metadata": {},
   "outputs": [],
   "source": [
    "\n",
    "lien_fichier = 'C:\\\\Python\\\\Advent_of_code_2024\\\\Input_Data\\\\Day_8.txt'\n",
    "with open(lien_fichier, 'r', encoding='utf-8') as f:\n",
    "    lgns_crt = [ligne.rstrip('\\n') for ligne in f]"
   ]
  },
  {
   "cell_type": "markdown",
   "metadata": {},
   "source": [
    "## Part1"
   ]
  },
  {
   "cell_type": "code",
   "execution_count": 74,
   "metadata": {},
   "outputs": [
    {
     "data": {
      "text/plain": [
       "244"
      ]
     },
     "execution_count": 74,
     "metadata": {},
     "output_type": "execute_result"
    }
   ],
   "source": [
    "from math import gcd\n",
    "\n",
    "def cal_ant_noeuds_part1(lgns_crt):\n",
    "    htr = len(lgns_crt)\n",
    "    lgr = len(lgns_crt[0]) if htr > 0 else 0\n",
    "\n",
    "    freqs = {}\n",
    "    for y, ligne in enumerate(lgns_crt):\n",
    "        for x, caract in enumerate(ligne):\n",
    "            if caract != '.':\n",
    "                if caract not in freqs:\n",
    "                    freqs[caract] = []\n",
    "                freqs[caract].append((x, y))\n",
    "\n",
    "    ant_noeuds = set()\n",
    "\n",
    "    for freq, poss in freqs.items():\n",
    "        n = len(poss)\n",
    "        for i in range(n):\n",
    "            for j in range(i+1, n):\n",
    "                x1, y1 = poss[i]\n",
    "                x2, y2 = poss[j]\n",
    "\n",
    "                q1x, q1y = 2*x2 - x1, 2*y2 - y1\n",
    "                q2x, q2y = 2*x1 - x2, 2*y1 - y2\n",
    "\n",
    "                if 0 <= q1x < lgr and 0 <= q1y < htr:\n",
    "                    ant_noeuds.add((q1x, q1y))\n",
    "                if 0 <= q2x < lgr and 0 <= q2y < htr:\n",
    "                    ant_noeuds.add((q2x, q2y))\n",
    "\n",
    "    return len(ant_noeuds)\n",
    "\n",
    "resulta = cal_ant_noeuds_part1(lgns_crt)\n",
    "resulta\n"
   ]
  },
  {
   "cell_type": "markdown",
   "metadata": {},
   "source": [
    "## Part2"
   ]
  },
  {
   "cell_type": "code",
   "execution_count": 75,
   "metadata": {},
   "outputs": [
    {
     "data": {
      "text/plain": [
       "912"
      ]
     },
     "execution_count": 75,
     "metadata": {},
     "output_type": "execute_result"
    }
   ],
   "source": [
    "def cal_ant_noeuds_part2(lgns_crt):\n",
    "    htr = len(lgns_crt)\n",
    "    lgr = len(lgns_crt[0]) if htr > 0 else 0\n",
    "\n",
    "    freqs = {} \n",
    "    for y, ligne in enumerate(lgns_crt):\n",
    "        for x, caract in enumerate(ligne):\n",
    "            if caract != '.':\n",
    "                if caract not in freqs:\n",
    "                    freqs[caract] = []\n",
    "                freqs[caract].append((x, y))\n",
    "\n",
    "    ant_noeuds = set()\n",
    "\n",
    "    for freq, poss in freqs.items():\n",
    "        if len(poss) < 2:\n",
    "            continue\n",
    "\n",
    "        n = len(poss)\n",
    "        for i in range(n):\n",
    "            for j in range(i+1, n):\n",
    "                x1, y1 = poss[i]\n",
    "                x2, y2 = poss[j]\n",
    "\n",
    "                dx = x2 - x1\n",
    "                dy = y2 - y1\n",
    "                g = gcd(dx, dy) \n",
    "                dxp = dx // g\n",
    "                dyp = dy // g\n",
    "                k = 0\n",
    "                while True:\n",
    "                    xk = x1 + k * dxp\n",
    "                    yk = y1 + k * dyp\n",
    "                    if 0 <= xk < lgr and 0 <= yk < htr:\n",
    "                        ant_noeuds.add((xk, yk))\n",
    "                        k += 1\n",
    "                    else:\n",
    "                        break\n",
    "                k = -1\n",
    "                while True:\n",
    "                    xk = x1 + k * dxp\n",
    "                    yk = y1 + k * dyp\n",
    "                    if 0 <= xk < lgr and 0 <= yk < htr:\n",
    "                        ant_noeuds.add((xk, yk))\n",
    "                        k -= 1\n",
    "                    else:\n",
    "                        break\n",
    "    return len(ant_noeuds)\n",
    "\n",
    "resulta = cal_ant_noeuds_part2(lgns_crt)\n",
    "resulta"
   ]
  },
  {
   "cell_type": "markdown",
   "metadata": {},
   "source": [
    "# Day 9"
   ]
  },
  {
   "cell_type": "code",
   "execution_count": 76,
   "metadata": {},
   "outputs": [],
   "source": [
    "lien_fichier = 'C:\\\\Python\\\\Advent_of_code_2024\\\\Input_Data\\\\Day_9.txt'\n",
    "texte = open(lien_fichier).read()\n",
    "nbrs = [int(c) for c in texte.strip()]"
   ]
  },
  {
   "cell_type": "markdown",
   "metadata": {},
   "source": [
    "## Part1"
   ]
  },
  {
   "cell_type": "code",
   "execution_count": 77,
   "metadata": {},
   "outputs": [
    {
     "data": {
      "text/plain": [
       "6323641412437"
      ]
     },
     "execution_count": 77,
     "metadata": {},
     "output_type": "execute_result"
    }
   ],
   "source": [
    "def cal_checksum(nbrs):\n",
    "    disq = []\n",
    "    id_fich = 0\n",
    "    for i in range(0, len(nbrs)):\n",
    "        if i % 2 == 0: \n",
    "            disq.extend([id_fich] * nbrs[i])\n",
    "            id_fich += 1\n",
    "        else: \n",
    "            disq.extend([-1] * nbrs[i]) \n",
    "\n",
    "    while True:\n",
    "        pos_esp = -1\n",
    "        for i in range(len(disq)):\n",
    "            if disq[i] == -1:\n",
    "                pos_esp = i\n",
    "                break\n",
    "\n",
    "        if pos_esp == -1: \n",
    "            break\n",
    "\n",
    "        pos_fich = -1\n",
    "        for i in range(len(disq)-1, pos_esp, -1):\n",
    "            if disq[i] != -1:\n",
    "                pos_fich = i\n",
    "                break\n",
    "\n",
    "        if pos_fich == -1: \n",
    "            break\n",
    "\n",
    "        disq[pos_esp] = disq[pos_fich]\n",
    "        disq[pos_fich] = -1\n",
    "\n",
    "    checksum = 0\n",
    "    for pos, block in enumerate(disq):\n",
    "        if block != -1:\n",
    "            checksum += pos * block\n",
    "    return checksum\n",
    "\n",
    "resulta = cal_checksum(nbrs)\n",
    "resulta\n"
   ]
  },
  {
   "cell_type": "markdown",
   "metadata": {},
   "source": [
    "## Part2"
   ]
  },
  {
   "cell_type": "code",
   "execution_count": 78,
   "metadata": {},
   "outputs": [
    {
     "data": {
      "text/plain": [
       "6351801932670"
      ]
     },
     "execution_count": 78,
     "metadata": {},
     "output_type": "execute_result"
    }
   ],
   "source": [
    "def parse_disq(nbrs):\n",
    "    disq = []\n",
    "    id_fich = 0\n",
    "    for i in range(len(nbrs)):\n",
    "        if i % 2 == 0:\n",
    "            disq.extend([id_fich] * nbrs[i])\n",
    "            id_fich += 1\n",
    "        else:\n",
    "            disq.extend([-1] * nbrs[i])\n",
    "    return disq, id_fich \n",
    "\n",
    "def find_files(disq, total_files):\n",
    "\n",
    "    info_fich = []\n",
    "    current_id_fich = None\n",
    "    start_pos = None\n",
    "    length = 0\n",
    "    pos_pos = [None] * total_files\n",
    "\n",
    "    for i, block in enumerate(disq):\n",
    "        if block == -1:\n",
    "            continue\n",
    "        if pos_pos[block] is None:\n",
    "            pos_pos[block] = [i, 1]\n",
    "        else:\n",
    "            pos_pos[block][1] += 1\n",
    "    for fid in range(total_files):\n",
    "        start, length = pos_pos[fid]\n",
    "        info_fich.append((fid, start, length))\n",
    "\n",
    "    return info_fich\n",
    "\n",
    "def find_space_for_file(disq, file_start, file_length):\n",
    "    free_count = 0\n",
    "    free_start = -1\n",
    "    best_start = -1\n",
    "\n",
    "    for i in range(file_start):\n",
    "        if disq[i] == -1:\n",
    "            if free_count == 0:\n",
    "                free_start = i\n",
    "            free_count += 1\n",
    "            if free_count >= file_length:\n",
    "                best_start = free_start\n",
    "                break\n",
    "        else:\n",
    "            free_count = 0\n",
    "            free_start = -1\n",
    "    \n",
    "    return best_start\n",
    "\n",
    "def move_file(disq, id_fich, start, length):\n",
    "    new_start = find_space_for_file(disq, start, length)\n",
    "    if new_start == -1:\n",
    "        return\n",
    "    pos_pos = [i for i in range(start, start+length)]\n",
    "    for pos in pos_pos:\n",
    "        disq[pos] = -1\n",
    "    for i in range(length):\n",
    "        disq[new_start + i] = id_fich\n",
    "\n",
    "def compute_checksum(disq):\n",
    "    checksum = 0\n",
    "    for pos, block in enumerate(disq):\n",
    "        if block != -1:\n",
    "            checksum += pos * block\n",
    "    return checksum\n",
    "\n",
    "\n",
    "disq, total_files = parse_disq(nbrs)\n",
    "\n",
    "info_fich = find_files(disq, total_files)\n",
    "info_fich.sort(key=lambda x: x[0], reverse=True)\n",
    "for id_fich, start, length in info_fich:\n",
    "    move_file(disq, id_fich, start, length)\n",
    "\n",
    "resulta = compute_checksum(disq)\n",
    "resulta\n"
   ]
  },
  {
   "cell_type": "markdown",
   "metadata": {},
   "source": [
    "# Day 10"
   ]
  },
  {
   "cell_type": "code",
   "execution_count": 80,
   "metadata": {},
   "outputs": [
    {
     "data": {
      "text/plain": [
       "array([[0, 3, 4, ..., 5, 6, 5],\n",
       "       [1, 2, 5, ..., 4, 3, 4],\n",
       "       [7, 8, 7, ..., 1, 2, 1],\n",
       "       ...,\n",
       "       [7, 6, 3, ..., 8, 7, 8],\n",
       "       [4, 5, 4, ..., 9, 6, 7],\n",
       "       [5, 6, 5, ..., 4, 5, 6]])"
      ]
     },
     "execution_count": 80,
     "metadata": {},
     "output_type": "execute_result"
    }
   ],
   "source": [
    "import numpy as np\n",
    "\n",
    "lien_fichier = 'C:\\\\Python\\\\Advent_of_code_2024\\\\Input_Data\\\\Day_10.txt'\n",
    "with open(lien_fichier, 'r') as file:\n",
    "    lgns = file.readlines()\n",
    "\n",
    "map_topogr = np.array([list(map(int, lgn.strip())) for lgn in lgns])\n",
    "map_topogr\n"
   ]
  },
  {
   "cell_type": "markdown",
   "metadata": {},
   "source": [
    "## Part1"
   ]
  },
  {
   "cell_type": "code",
   "execution_count": 81,
   "metadata": {},
   "outputs": [
    {
     "data": {
      "text/plain": [
       "794"
      ]
     },
     "execution_count": 81,
     "metadata": {},
     "output_type": "execute_result"
    }
   ],
   "source": [
    "from collections import deque\n",
    "\n",
    "def cal_score_dep(map_data):\n",
    "    lignes, cols = map_data.shape\n",
    "    directs = [(-1, 0), (1, 0), (0, -1), (0, 1)] \n",
    "    scores = []\n",
    "\n",
    "    for r in range(lignes):\n",
    "        for c in range(cols):\n",
    "            if map_data[r, c] == 0:\n",
    "                visit = set()\n",
    "                queue = deque([(r, c, 0)]) \n",
    "                neuf_acces = set()\n",
    "\n",
    "                while queue:\n",
    "                    x, y, alt = queue.popleft()\n",
    "\n",
    "                    if map_data[x, y] == 9:\n",
    "                        neuf_acces.add((x, y))\n",
    "                        continue\n",
    "\n",
    "                    visit.add((x, y))\n",
    "\n",
    "                    for dr, dc in directs:\n",
    "                        nx, ny = x + dr, y + dc\n",
    "                        if 0 <= nx < lignes and 0 <= ny < cols and (nx, ny) not in visit:\n",
    "                            if map_data[nx, ny] == alt + 1:\n",
    "                                queue.append((nx, ny, map_data[nx, ny]))\n",
    "\n",
    "                scores.append(len(neuf_acces))\n",
    "    return scores\n",
    "\n",
    "resulta = sum(cal_score_dep(map_topogr))\n",
    "resulta\n"
   ]
  },
  {
   "cell_type": "markdown",
   "metadata": {},
   "source": [
    "## Part2"
   ]
  },
  {
   "cell_type": "code",
   "execution_count": 82,
   "metadata": {},
   "outputs": [
    {
     "data": {
      "text/plain": [
       "1706"
      ]
     },
     "execution_count": 82,
     "metadata": {},
     "output_type": "execute_result"
    }
   ],
   "source": [
    "def cal_score_partie2(map_data):\n",
    "    lignes, cols = map_data.shape\n",
    "    directs = [(-1, 0), (1, 0), (0, -1), (0, 1)] \n",
    "    score = 0\n",
    "\n",
    "    for r in range(lignes):\n",
    "        for c in range(cols):\n",
    "            if map_data[r, c] == 0: \n",
    "                vist = set()\n",
    "                queue = deque([(r, c, 0)]) \n",
    "                traj = 0\n",
    "\n",
    "                while queue:\n",
    "                    x, y, alt = queue.popleft()\n",
    "\n",
    "                    if map_data[x, y] == 9:\n",
    "                        traj += 1\n",
    "                        continue\n",
    "\n",
    "                    vist.add((x, y))\n",
    "\n",
    "                    for dr, dc in directs:\n",
    "                        nx, ny = x + dr, y + dc\n",
    "                        if 0 <= nx < lignes and 0 <= ny < cols and (nx, ny) not in vist:\n",
    "                            if map_data[nx, ny] == alt + 1:\n",
    "                                queue.append((nx, ny, map_data[nx, ny]))\n",
    "                score += traj\n",
    "    return score\n",
    "\n",
    "scores = cal_score_partie2(map_topogr)\n",
    "scores\n"
   ]
  },
  {
   "cell_type": "markdown",
   "metadata": {},
   "source": [
    "# Day 11"
   ]
  },
  {
   "cell_type": "code",
   "execution_count": 83,
   "metadata": {},
   "outputs": [],
   "source": [
    "lien_fichier = 'C:\\\\Python\\\\Advent_of_code_2024\\\\Input_Data\\\\Day_11.txt'\n",
    "\n",
    "with open(lien_fichier) as f:\n",
    "    pierres_init = [int(x) for x in f.read().split()]"
   ]
  },
  {
   "cell_type": "markdown",
   "metadata": {},
   "source": [
    "## Part1"
   ]
  },
  {
   "cell_type": "code",
   "execution_count": 84,
   "metadata": {},
   "outputs": [
    {
     "data": {
      "text/plain": [
       "231278"
      ]
     },
     "execution_count": 84,
     "metadata": {},
     "output_type": "execute_result"
    }
   ],
   "source": [
    "from collections import Counter\n",
    "\n",
    "def simul_clignotmnt(liste_pierres, clignotements):\n",
    "    pierres = Counter(liste_pierres)\n",
    "    for _ in range(clignotements):\n",
    "        nouvelles_pierres = Counter()\n",
    "        for num, compte in pierres.items():\n",
    "            if num == 0:\n",
    "                nouvelles_pierres[1] += compte\n",
    "            elif len(str(num)) % 2 == 0:\n",
    "                s = str(num)\n",
    "                milieu = len(s) // 2\n",
    "                gauche = s[:milieu].lstrip('0') or '0'\n",
    "                droite = s[milieu:].lstrip('0') or '0'\n",
    "                nouvelles_pierres[int(gauche)] += compte\n",
    "                nouvelles_pierres[int(droite)] += compte\n",
    "            else:\n",
    "                nouveau_num = num * 2024\n",
    "                nouvelles_pierres[nouveau_num] += compte\n",
    "        pierres = nouvelles_pierres\n",
    "    total_pierres = sum(pierres.values())\n",
    "    return total_pierres\n",
    "\n",
    "resultat = simul_clignotmnt(pierres_init, 25)\n",
    "resultat\n"
   ]
  },
  {
   "cell_type": "markdown",
   "metadata": {},
   "source": [
    "## Part2"
   ]
  },
  {
   "cell_type": "code",
   "execution_count": 85,
   "metadata": {},
   "outputs": [
    {
     "data": {
      "text/plain": [
       "274229228071551"
      ]
     },
     "execution_count": 85,
     "metadata": {},
     "output_type": "execute_result"
    }
   ],
   "source": [
    "resultat = simul_clignotmnt(pierres_init, 75)\n",
    "resultat"
   ]
  },
  {
   "cell_type": "markdown",
   "metadata": {},
   "source": [
    "# Day 12"
   ]
  },
  {
   "cell_type": "code",
   "execution_count": 11,
   "metadata": {},
   "outputs": [],
   "source": [
    "lien_fichier = 'C:\\\\Python\\\\Advent_of_code_2024\\\\Input_Data\\\\Day_12.txt'\n",
    "\n",
    "with open(lien_fichier, 'r') as fichier:\n",
    "    carte = [ligne.strip() for ligne in fichier.readlines()]"
   ]
  },
  {
   "cell_type": "markdown",
   "metadata": {},
   "source": [
    "## Part1"
   ]
  },
  {
   "cell_type": "code",
   "execution_count": 12,
   "metadata": {},
   "outputs": [
    {
     "data": {
      "text/plain": [
       "1550156"
      ]
     },
     "execution_count": 12,
     "metadata": {},
     "output_type": "execute_result"
    }
   ],
   "source": [
    "from collections import deque\n",
    "\n",
    "def cal_cout_total(carte_jardin):\n",
    "    lignes, cols = len(carte_jardin), len(carte_jardin[0])\n",
    "    visites = [[False for _ in range(cols)] for _ in range(lignes)]\n",
    "    directs = [(-1, 0), (1, 0), (0, -1), (0, 1)]\n",
    "    cout_total = 0\n",
    "\n",
    "    for ligne in range(lignes):\n",
    "        for col in range(cols):\n",
    "            if not visites[ligne][col]:\n",
    "                type_plante = carte_jardin[ligne][col]\n",
    "                file = deque([(ligne, col)])\n",
    "                visites[ligne][col] = True\n",
    "                aire = 0\n",
    "                perimetre = 0\n",
    "\n",
    "                while file:\n",
    "                    x, y = file.popleft()\n",
    "                    aire += 1\n",
    "\n",
    "                    for dx, dy in directs:\n",
    "                        nx, ny = x + dx, y + dy\n",
    "                        if 0 <= nx < lignes and 0 <= ny < cols:\n",
    "                            if carte_jardin[nx][ny] == type_plante and not visites[nx][ny]:\n",
    "                                visites[nx][ny] = True\n",
    "                                file.append((nx, ny))\n",
    "                            elif carte_jardin[nx][ny] != type_plante:\n",
    "                                perimetre += 1\n",
    "                        else:\n",
    "                            perimetre += 1\n",
    "\n",
    "                cout_total += aire * perimetre\n",
    "\n",
    "    return cout_total\n",
    "\n",
    "resulta = cal_cout_total(carte)\n",
    "resulta\n"
   ]
  },
  {
   "cell_type": "markdown",
   "metadata": {},
   "source": [
    "## Part2"
   ]
  },
  {
   "cell_type": "code",
   "execution_count": 17,
   "metadata": {},
   "outputs": [
    {
     "data": {
      "text/plain": [
       "946084"
      ]
     },
     "execution_count": 17,
     "metadata": {},
     "output_type": "execute_result"
    }
   ],
   "source": [
    "def calculer_cout_avec_cotes(carte_jardin):\n",
    "    def obtenir_cotes_du_groupe(groupe):\n",
    "        min_y = min(groupe, key=lambda x: x[0])[0]\n",
    "        max_y = max(groupe, key=lambda x: x[0])[0]\n",
    "        min_x = min(groupe, key=lambda x: x[1])[1]\n",
    "        max_x = max(groupe, key=lambda x: x[1])[1]\n",
    "        lignes = max_y - min_y + 1\n",
    "        colonnes = max_x - min_x + 1\n",
    "        nouveau_groupe = [(y - min_y, x - min_x) for y, x in groupe]\n",
    "\n",
    "        grille = [[\" \" for _ in range(colonnes + 2)] for _ in range(lignes + 2)]\n",
    "        for y, x in nouveau_groupe:\n",
    "            grille[y + 1][x + 1] = \"X\"\n",
    "\n",
    "        cotes = 0\n",
    "\n",
    "        for _ in range(2):\n",
    "            for y in range(1, lignes + 1):\n",
    "                cotes += len(\"\".join([\"X\" if actuel != dessus and actuel == \"X\" else \" \" for actuel, dessus in zip(grille[y], grille[y - 1])]).split())\n",
    "\n",
    "                cotes += len(\"\".join([\"X\" if actuel != dessous and actuel == \"X\" else \" \" for actuel, dessous in zip(grille[y], grille[y + 1])]).split())\n",
    "\n",
    "            grille = list(zip(*grille[::-1]))\n",
    "            lignes, colonnes = colonnes, lignes\n",
    "\n",
    "        return cotes\n",
    "\n",
    "    lignes, colonnes = len(carte_jardin), len(carte_jardin[0])\n",
    "    visites = [[False for _ in range(colonnes)] for _ in range(lignes)]\n",
    "    directions = [(-1, 0), (1, 0), (0, -1), (0, 1)]\n",
    "    cout_total = 0\n",
    "\n",
    "    for ligne in range(lignes):\n",
    "        for colonne in range(colonnes):\n",
    "            if not visites[ligne][colonne]:\n",
    "                type_plante = carte_jardin[ligne][colonne]\n",
    "                file = deque([(ligne, colonne)])\n",
    "                visites[ligne][colonne] = True\n",
    "                groupe = set()\n",
    "\n",
    "                while file:\n",
    "                    x, y = file.popleft()\n",
    "                    groupe.add((x, y))\n",
    "\n",
    "                    for dx, dy in directions:\n",
    "                        nx, ny = x + dx, y + dy\n",
    "                        if 0 <= nx < lignes and 0 <= ny < colonnes and not visites[nx][ny] and carte_jardin[nx][ny] == type_plante:\n",
    "                            visites[nx][ny] = True\n",
    "                            file.append((nx, ny))\n",
    "\n",
    "                cotes = obtenir_cotes_du_groupe(groupe)\n",
    "                cout_total += len(groupe) * cotes\n",
    "\n",
    "    return cout_total\n",
    "\n",
    "resulta = calculer_cout_avec_cotes(carte)\n",
    "resulta\n"
   ]
  },
  {
   "cell_type": "markdown",
   "metadata": {},
   "source": [
    "# Day 13"
   ]
  },
  {
   "cell_type": "code",
   "execution_count": 18,
   "metadata": {},
   "outputs": [],
   "source": [
    "lien_fichier = 'C:\\\\Python\\\\Advent_of_code_2024\\\\Input_Data\\\\Day_13.txt'\n",
    "\n",
    "with open(lien_fichier, \"r\") as file:\n",
    "    data = file.read().strip().split(\"\\n\\n\") \n"
   ]
  },
  {
   "cell_type": "markdown",
   "metadata": {},
   "source": [
    "## Part1"
   ]
  },
  {
   "cell_type": "code",
   "execution_count": 98,
   "metadata": {},
   "outputs": [
    {
     "data": {
      "text/plain": [
       "37901"
      ]
     },
     "execution_count": 98,
     "metadata": {},
     "output_type": "execute_result"
    }
   ],
   "source": [
    "def partie1(data):\n",
    "    coins = 0\n",
    "    for machine in data:\n",
    "        lignees = machine.split(\"\\n\")\n",
    "        btn_a = [int(i[2:]) for i in lignees[0].split(\": \")[1].split(\", \")] \n",
    "        btn_b = [int(i[2:]) for i in lignees[1].split(\": \")[1].split(\", \")]\n",
    "        prize = [int(i[2:]) for i in lignees[2].split(\": \")[1].split(\", \")] \n",
    "\n",
    "        denominator = btn_b[1] * btn_a[0] - btn_b[0] * btn_a[1]\n",
    "        if denominator == 0:\n",
    "            continue  \n",
    "\n",
    "        times_b = (prize[1] * btn_a[0] - prize[0] * btn_a[1]) / denominator\n",
    "        if not times_b.is_integer():\n",
    "            continue  \n",
    "\n",
    "        times_a = (prize[0] - btn_b[0] * times_b) / btn_a[0]\n",
    "        if not times_a.is_integer() or times_a < 0 or times_b < 0 or times_a > 100 or times_b > 100:\n",
    "            continue  \n",
    "\n",
    "        coins += int(times_a) * 3 + int(times_b)\n",
    "\n",
    "    return coins\n",
    "\n",
    "resulta = partie1(data)\n",
    "resulta"
   ]
  },
  {
   "cell_type": "markdown",
   "metadata": {},
   "source": [
    "## Part2"
   ]
  },
  {
   "cell_type": "code",
   "execution_count": 100,
   "metadata": {},
   "outputs": [
    {
     "data": {
      "text/plain": [
       "77407675412647"
      ]
     },
     "execution_count": 100,
     "metadata": {},
     "output_type": "execute_result"
    }
   ],
   "source": [
    "def partie2(data):\n",
    "\n",
    "    coins = 0\n",
    "\n",
    "    for machine in data:\n",
    "        lines = machine.split(\"\\n\")\n",
    "        btn_a = [int(i[2:]) for i in lines[0].split(\": \")[1].split(\", \")] \n",
    "        btn_b = [int(i[2:]) for i in lines[1].split(\": \")[1].split(\", \")]\n",
    "        prize = [int(i[2:]) + 10**13 for i in lines[2].split(\": \")[1].split(\", \")] \n",
    "\n",
    "        denominator = btn_b[1] * btn_a[0] - btn_b[0] * btn_a[1]\n",
    "        if denominator == 0:\n",
    "            continue \n",
    "\n",
    "        times_b = (prize[1] * btn_a[0] - prize[0] * btn_a[1]) / denominator\n",
    "        if not times_b.is_integer():\n",
    "            continue \n",
    "\n",
    "        times_a = (prize[0] - btn_b[0] * times_b) / btn_a[0]\n",
    "        if not times_a.is_integer() or times_a < 0 or times_b < 0:\n",
    "            continue  \n",
    "\n",
    "        coins += int(times_a) * 3 + int(times_b)\n",
    "\n",
    "    return coins\n",
    "\n",
    "\n",
    "resulta = partie2(data)\n",
    "resulta"
   ]
  },
  {
   "cell_type": "markdown",
   "metadata": {},
   "source": [
    "# Day 14"
   ]
  },
  {
   "cell_type": "code",
   "execution_count": 101,
   "metadata": {},
   "outputs": [],
   "source": [
    "lien_fichier = 'C:\\\\Python\\\\Advent_of_code_2024\\\\Input_Data\\\\Day_14.txt'\n",
    "with open(lien_fichier) as f:\n",
    "    data = f.read().strip().split(\"\\n\")"
   ]
  },
  {
   "cell_type": "markdown",
   "metadata": {},
   "source": [
    "## Part1"
   ]
  },
  {
   "cell_type": "code",
   "execution_count": 102,
   "metadata": {},
   "outputs": [
    {
     "data": {
      "text/plain": [
       "221142636"
      ]
     },
     "execution_count": 102,
     "metadata": {},
     "output_type": "execute_result"
    }
   ],
   "source": [
    "def partie1(d):\n",
    "    L, H = 101, 103\n",
    "    t = 100\n",
    "    rx, ry, vx, vy = [], [], [], []\n",
    "    for l in d:\n",
    "        l = l.strip()\n",
    "        p, v = l.split(\" v=\")\n",
    "        p = p.split(\"p=\")[1]\n",
    "        px, py = p.split(\",\")\n",
    "        px, py = int(px), int(py)\n",
    "        vx_, vy_ = v.split(\",\")\n",
    "        vx_, vy_ = int(vx_), int(vy_)\n",
    "        rx.append(px)\n",
    "        ry.append(py)\n",
    "        vx.append(vx_)\n",
    "        vy.append(vy_)\n",
    "\n",
    "    for i in range(len(rx)):\n",
    "        rx[i] = (rx[i] + vx[i]*t) % L\n",
    "        ry[i] = (ry[i] + vy[i]*t) % H\n",
    "\n",
    "    cx, cy = L//2, H//2\n",
    "    q1 = q2 = q3 = q4 = 0\n",
    "    for i in range(len(rx)):\n",
    "        x, y = rx[i], ry[i]\n",
    "        if x < cx and y < cy:\n",
    "            q1 += 1\n",
    "        elif x > cx and y < cy:\n",
    "            q2 += 1\n",
    "        elif x < cx and y > cy:\n",
    "            q3 += 1\n",
    "        elif x > cx and y > cy:\n",
    "            q4 += 1\n",
    "\n",
    "    return q1*q2*q3*q4\n",
    "resulta = partie1(data)\n",
    "resulta\n"
   ]
  },
  {
   "cell_type": "markdown",
   "metadata": {},
   "source": [
    "## Part2"
   ]
  },
  {
   "cell_type": "code",
   "execution_count": 103,
   "metadata": {},
   "outputs": [
    {
     "data": {
      "text/plain": [
       "7916"
      ]
     },
     "execution_count": 103,
     "metadata": {},
     "output_type": "execute_result"
    }
   ],
   "source": [
    "def part2(data):\n",
    "    robots = []\n",
    "    for ligne in data:\n",
    "        a, b = ligne.split(\" \")\n",
    "        x, y = map(int, a[2:].split(\",\"))\n",
    "        vx, vy = map(int, b[2:].split(\",\"))\n",
    "        robots.append(((x, y), (vx, vy)))\n",
    "\n",
    "    width = 101\n",
    "    height = 103\n",
    "\n",
    "    t = 0\n",
    "    while True:\n",
    "        t += 1\n",
    "        pos = set()\n",
    "        valid = True\n",
    "        for (x, y), (vx, vy) in robots:\n",
    "            nx = (x + t*(vx+width)) % width\n",
    "            ny = (y + t*(vy+height)) % height\n",
    "            if (nx, ny) in pos:\n",
    "                valid = False\n",
    "                break\n",
    "            pos.add((nx, ny))\n",
    "        if valid:\n",
    "            return t\n",
    "\n",
    "\n",
    "resulta = part2(data)\n",
    "resulta\n"
   ]
  },
  {
   "cell_type": "markdown",
   "metadata": {},
   "source": [
    "# Day 15"
   ]
  },
  {
   "cell_type": "code",
   "execution_count": 22,
   "metadata": {},
   "outputs": [],
   "source": [
    "lien_fichier = 'C:\\\\Python\\\\Advent_of_code_2024\\\\Input_Data\\\\Day_15.txt'\n",
    "\n",
    "def lire_entree(nom_fichier):\n",
    "    with open(nom_fichier, \"r\", encoding=\"utf-8\") as fichier:\n",
    "        return [ligne.rstrip(\"\\n\") for ligne in fichier]\n",
    "entree = lire_entree(lien_fichier)"
   ]
  },
  {
   "cell_type": "code",
   "execution_count": null,
   "metadata": {},
   "outputs": [],
   "source": [
    "directions = {\n",
    "    \"^\": (-1, 0),\n",
    "    \"v\": (1, 0),\n",
    "    \"<\": (0, -1),\n",
    "    \">\": (0, 1),\n",
    "}\n",
    "\n",
    "def obtenir_position_robot(grille):\n",
    "    for i, ligne in enumerate(grille):\n",
    "        for j, case in enumerate(ligne):\n",
    "            if case == \"@\":\n",
    "                return (i, j)\n",
    "\n",
    "def deplacer(grille, position, mouvements, partie):\n",
    "    for mouvement in mouvements:\n",
    "        ny = position[0] + directions[mouvement][0]\n",
    "        nx = position[1] + directions[mouvement][1]\n",
    "\n",
    "        if grille[ny][nx] == \".\":\n",
    "            position = (ny, nx)\n",
    "        elif grille[ny][nx] == \"#\":\n",
    "            continue\n",
    "        else:\n",
    "            bords, adjacents = obtenir_adjacents_et_bords(grille, position, mouvement, partie)\n",
    "            bloque = 0\n",
    "            dy, dx = directions[mouvement]\n",
    "            for boite in bords:\n",
    "                ny, nx = (boite[0] + dy, boite[1] + dx)\n",
    "                if grille[ny][nx] == \"#\":\n",
    "                    bloque += 1\n",
    "            if bloque == 0:\n",
    "                grille = mettre_a_jour_grille(grille, adjacents, mouvement)\n",
    "                position = (position[0] + dy, position[1] + dx)\n",
    "    return grille\n",
    "\n",
    "def obtenir_adjacents_et_bords(grille, position, mouvement, partie=1):\n",
    "    y, x = position\n",
    "    dy, dx = directions[mouvement]\n",
    "\n",
    "    adjacents = set()\n",
    "    if partie == 1 or mouvement in \"<>\":\n",
    "        while True:\n",
    "            ny, nx = y + dy, x + dx\n",
    "            if grille[ny][nx] in \".#\":\n",
    "                return [(ny - dy, nx - dx)], adjacents\n",
    "            y = ny\n",
    "            x = nx\n",
    "            adjacents.add((y, x))\n",
    "    else:\n",
    "        bords = []\n",
    "        file = [(y, x)]\n",
    "        while file:\n",
    "            y, x = file.pop(0)\n",
    "            if (y, x) in adjacents:\n",
    "                continue\n",
    "            adjacents.add((y, x))\n",
    "            ny, nx = y + dy, x + dx\n",
    "            if grille[ny][nx] in \".#\":\n",
    "                bords.append((y, x))\n",
    "            elif grille[ny][nx] == \"[\":\n",
    "                file.append((ny, nx))\n",
    "                file.append((ny, nx + 1))\n",
    "            elif grille[ny][nx] == \"]\":\n",
    "                file.append((ny, nx))\n",
    "                file.append((ny, nx - 1))\n",
    "\n",
    "        return bords, adjacents - {(position[0], position[1])}\n",
    "\n",
    "def mettre_a_jour_grille(grille, adjacents, mouvement):\n",
    "    coordonnees_tries = []\n",
    "\n",
    "    match mouvement:\n",
    "        case \"^\":\n",
    "            coordonnees_tries = sorted(adjacents, key=lambda x: x[0])\n",
    "        case \"v\":\n",
    "            coordonnees_tries = sorted(adjacents, key=lambda x: x[0], reverse=True)\n",
    "        case \"<\":\n",
    "            coordonnees_tries = sorted(adjacents, key=lambda x: x[1])\n",
    "        case \">\":\n",
    "            coordonnees_tries = sorted(adjacents, key=lambda x: x[1], reverse=True)\n",
    "\n",
    "    dy, dx = directions[mouvement]\n",
    "    for coord in coordonnees_tries:\n",
    "        y, x = coord\n",
    "        ny, nx = y + dy, x + dx\n",
    "        grille[ny][nx] = grille[y][x]\n",
    "        grille[y][x] = \".\"\n",
    "\n",
    "    return grille\n",
    "\n",
    "def calculer_somme_coordonnees(grille, partie=1):\n",
    "    boite = \"[\" if partie == 2 else \"O\"\n",
    "    return sum(100 * y + x for y, ligne in enumerate(grille) for x, case in enumerate(ligne) if case == boite)\n",
    "\n",
    "def redimensionner_grille(grille):\n",
    "    correspondances = {\n",
    "        \"#\": \"##\",\n",
    "        \"O\": \"[]\",\n",
    "        \".\": \"..\",\n",
    "        \"@\": \"@.\",\n",
    "    }\n",
    "    return [list(\"\".join(correspondances[c] for c in ligne)) for ligne in grille]"
   ]
  },
  {
   "cell_type": "markdown",
   "metadata": {},
   "source": [
    "## Part1"
   ]
  },
  {
   "cell_type": "code",
   "execution_count": 25,
   "metadata": {},
   "outputs": [
    {
     "data": {
      "text/plain": [
       "1476771"
      ]
     },
     "execution_count": 25,
     "metadata": {},
     "output_type": "execute_result"
    }
   ],
   "source": [
    "def partie1(entree):\n",
    "    partie = 1\n",
    "    grille, mouvements = \"\\n\".join(entree).split(\"\\n\\n\")\n",
    "    grille = [list(ligne) for ligne in grille.split(\"\\n\")]\n",
    "    mouvements = list(\"\".join(mouvements.split(\"\\n\")))\n",
    "\n",
    "    position = obtenir_position_robot(grille)\n",
    "    grille[position[0]][position[1]] = \".\"\n",
    "\n",
    "    grille = deplacer(grille, position, mouvements, partie)\n",
    "    return calculer_somme_coordonnees(grille, partie)\n",
    "\n",
    "resulta = partie1(entree)\n",
    "resulta"
   ]
  },
  {
   "cell_type": "markdown",
   "metadata": {},
   "source": [
    "## Part2"
   ]
  },
  {
   "cell_type": "code",
   "execution_count": 26,
   "metadata": {},
   "outputs": [
    {
     "data": {
      "text/plain": [
       "1468005"
      ]
     },
     "execution_count": 26,
     "metadata": {},
     "output_type": "execute_result"
    }
   ],
   "source": [
    "def partie2(entree):\n",
    "    partie = 2\n",
    "    grille, mouvements = \"\\n\".join(entree).split(\"\\n\\n\")\n",
    "    grille = [list(ligne) for ligne in grille.split(\"\\n\")]\n",
    "    mouvements = list(\"\".join(mouvements.split(\"\\n\")))\n",
    "\n",
    "    grille = redimensionner_grille(grille)\n",
    "\n",
    "    position = obtenir_position_robot(grille)\n",
    "    grille[position[0]][position[1]] = \".\"\n",
    "\n",
    "    grille = deplacer(grille, position, mouvements, partie)\n",
    "    return calculer_somme_coordonnees(grille, partie)\n",
    "\n",
    "resulta = partie2(entree)\n",
    "resulta"
   ]
  },
  {
   "cell_type": "markdown",
   "metadata": {},
   "source": [
    "# Day 16"
   ]
  },
  {
   "cell_type": "code",
   "execution_count": 34,
   "metadata": {},
   "outputs": [],
   "source": [
    "lien_fichier = 'C:\\\\Python\\\\Advent_of_code_2024\\\\Input_Data\\\\Day_16.txt'\n",
    "\n",
    "with open(lien_fichier, 'r') as f:\n",
    "    labyrinthe = [ligne.strip() for ligne in f]\n"
   ]
  },
  {
   "cell_type": "markdown",
   "metadata": {},
   "source": [
    "## Part1"
   ]
  },
  {
   "cell_type": "code",
   "execution_count": 35,
   "metadata": {},
   "outputs": [
    {
     "data": {
      "text/plain": [
       "135512"
      ]
     },
     "execution_count": 35,
     "metadata": {},
     "output_type": "execute_result"
    }
   ],
   "source": [
    "import heapq\n",
    "import os\n",
    "\n",
    "def trouver_positions(labyrinthe):\n",
    "    depart, fin = None, None\n",
    "    for y, ligne in enumerate(labyrinthe):\n",
    "        for x, case in enumerate(ligne):\n",
    "            if case == 'S':\n",
    "                depart = (x, y)\n",
    "            elif case == 'E':\n",
    "                fin = (x, y)\n",
    "    return depart, fin\n",
    "\n",
    "def est_valide(labyrinthe, x, y):\n",
    "    return 0 <= y < len(labyrinthe) and 0 <= x < len(labyrinthe[0]) and labyrinthe[y][x] != '#'\n",
    "\n",
    "def cal_chemin_min(labyrinthe):\n",
    "    depart, fin = trouver_positions(labyrinthe)\n",
    "\n",
    "    directions = [(1, 0), (0, 1), (-1, 0), (0, -1)]\n",
    "    queue = [(0, 0, *depart, 0)] \n",
    "    visites = set()\n",
    "\n",
    "    while queue:\n",
    "        score, rotations, x, y, direction = heapq.heappop(queue)\n",
    "\n",
    "        if (x, y) == fin:\n",
    "            return score\n",
    "\n",
    "        if (x, y, direction) in visites:\n",
    "            continue\n",
    "\n",
    "        visites.add((x, y, direction))\n",
    "\n",
    "        for new_direction, (dx, dy) in enumerate(directions):\n",
    "            nx, ny = x + dx, y + dy\n",
    "            if est_valide(labyrinthe, nx, ny):\n",
    "                nouveau_score = score + 1\n",
    "                if new_direction != direction:\n",
    "                    nouveau_score += 1000\n",
    "                heapq.heappush(queue, (nouveau_score, rotations + (new_direction != direction), nx, ny, new_direction))\n",
    "\n",
    "    return float('inf')  \n",
    "\n",
    "resulta = cal_chemin_min(labyrinthe)\n",
    "resulta"
   ]
  },
  {
   "cell_type": "markdown",
   "metadata": {},
   "source": [
    "## Part2"
   ]
  },
  {
   "cell_type": "code",
   "execution_count": null,
   "metadata": {},
   "outputs": [
    {
     "data": {
      "text/plain": [
       "541"
      ]
     },
     "execution_count": 37,
     "metadata": {},
     "output_type": "execute_result"
    }
   ],
   "source": [
    "import heapq\n",
    "\n",
    "def trouver_positions(labyrinthe):\n",
    "    depart, fin = None, None\n",
    "    for y, ligne in enumerate(labyrinthe):\n",
    "        for x, case in enumerate(ligne):\n",
    "            if case == 'S':\n",
    "                depart = (x, y)\n",
    "            elif case == 'E':\n",
    "                fin = (x, y)\n",
    "    return depart, fin\n",
    "\n",
    "def est_valide(labyrinthe, x, y):\n",
    "    return 0 <= y < len(labyrinthe) and 0 <= x < len(labyrinthe[0]) and labyrinthe[y][x] != '#'\n",
    "\n",
    "def trouver_routes(labyrinthe):\n",
    "    grille = []\n",
    "    depart, fin = trouver_positions(labyrinthe)\n",
    "\n",
    "    directions = [(0, 1), (-1, 0), (0, -1), (1, 0)]\n",
    "    routes = []\n",
    "    visites = {}\n",
    "\n",
    "    queue = [(depart, [depart], 0, 0)] \n",
    "    while queue:\n",
    "        (x, y), historique, score_actuel, direction_actuelle = queue.pop(0)\n",
    "\n",
    "        if (x, y) == fin:\n",
    "            routes.append((historique, score_actuel))\n",
    "            continue\n",
    "\n",
    "        if ((x, y), direction_actuelle) in visites and visites[((x, y), direction_actuelle)] < score_actuel:\n",
    "            continue\n",
    "\n",
    "        visites[((x, y), direction_actuelle)] = score_actuel\n",
    "\n",
    "        for nouvelle_direction, (dx, dy) in enumerate(directions):\n",
    "            if (direction_actuelle + 2) % 4 == nouvelle_direction:\n",
    "                continue\n",
    "\n",
    "            nx, ny = x + dx, y + dy\n",
    "            if est_valide(labyrinthe, nx, ny) and (nx, ny) not in historique:\n",
    "                if nouvelle_direction == direction_actuelle:\n",
    "                    queue.append(((nx, ny), historique + [(nx, ny)], score_actuel + 1, nouvelle_direction))\n",
    "                else:\n",
    "                    queue.append(((x, y), historique, score_actuel + 1000, nouvelle_direction))\n",
    "\n",
    "    return routes\n",
    "\n",
    "def compter_cases_optimales(labyrinthe):\n",
    "    routes_possibles = trouver_routes(labyrinthe)\n",
    "    score_minimal = min(route[1] for route in routes_possibles)\n",
    "    meilleures_routes = [route for route in routes_possibles if route[1] == score_minimal]\n",
    "    cases_optimales = {case for route in meilleures_routes for case in route[0]}\n",
    "    return len(cases_optimales)\n",
    "\n",
    "resulta = compter_cases_optimales(labyrinthe)\n",
    "resulta\n"
   ]
  },
  {
   "cell_type": "markdown",
   "metadata": {},
   "source": [
    "# Day 17"
   ]
  },
  {
   "cell_type": "code",
   "execution_count": 43,
   "metadata": {},
   "outputs": [],
   "source": [
    "# fichier texte d'entree\n",
    "registre_a = 66752888\n",
    "registre_b = 0\n",
    "registre_c = 0\n",
    "programme = [2, 4, 1, 7, 7, 5, 1, 7, 0, 3, 4, 1, 5, 5, 3, 0]"
   ]
  },
  {
   "cell_type": "code",
   "execution_count": 67,
   "metadata": {},
   "outputs": [],
   "source": [
    "def obtenir_valeur_combo(operande, registre_a, registre_b, registre_c):\n",
    "    if operande < 4:\n",
    "        return operande\n",
    "    elif operande == 4:\n",
    "        return registre_a\n",
    "    elif operande == 5:\n",
    "        return registre_b\n",
    "    elif operande == 6:\n",
    "        return registre_c\n",
    "    return None\n",
    "\n",
    "def executer_programme(registre_a, registre_b, registre_c, programme):\n",
    "    pointeur = 0\n",
    "    sortie = []\n",
    "\n",
    "    while pointeur < len(programme):\n",
    "        opcode = programme[pointeur]\n",
    "        operande = programme[pointeur + 1]\n",
    "\n",
    "        if opcode == 0:  # adv\n",
    "            denominateur = 2 ** obtenir_valeur_combo(operande, registre_a, registre_b, registre_c)\n",
    "            registre_a //= denominateur\n",
    "        elif opcode == 1:  # bxl\n",
    "            registre_b ^= operande\n",
    "        elif opcode == 2:  # bst\n",
    "            registre_b = obtenir_valeur_combo(operande, registre_a, registre_b, registre_c) % 8\n",
    "        elif opcode == 3:  # jnz\n",
    "            if registre_a != 0:\n",
    "                pointeur = operande\n",
    "                continue\n",
    "        elif opcode == 4:  # bxc\n",
    "            registre_b ^= registre_c\n",
    "        elif opcode == 5:  # out\n",
    "            sortie.append(obtenir_valeur_combo(operande, registre_a, registre_b, registre_c) % 8)\n",
    "        elif opcode == 6:  # bdv\n",
    "            denominateur = 2 ** obtenir_valeur_combo(operande, registre_a, registre_b, registre_c)\n",
    "            registre_b = registre_a // denominateur\n",
    "        elif opcode == 7:  # cdv\n",
    "            denominateur = 2 ** obtenir_valeur_combo(operande, registre_a, registre_b, registre_c)\n",
    "            registre_c = registre_a // denominateur\n",
    "\n",
    "        pointeur += 2\n",
    "\n",
    "    return sortie\n",
    "\n",
    "def trouver_valeur_initiale(programme):\n",
    "    A = sum(7 * 8**i for i in range(len(programme) - 1)) + 1\n",
    "\n",
    "    while True:\n",
    "        registre_a = A\n",
    "        registre_b = 0\n",
    "        registre_c = 0\n",
    "        sortie = executer_programme(registre_a, registre_b, registre_c, programme)\n",
    "\n",
    "        if len(sortie) > len(programme):\n",
    "            raise ValueError(\"La sortie est trop longue\")\n",
    "\n",
    "        if sortie == programme:\n",
    "            return A\n",
    "\n",
    "        ajout = 0\n",
    "        for i in range(len(sortie) - 1, -1, -1):\n",
    "            if sortie[i] != programme[i]:\n",
    "                ajout = 8**i\n",
    "                A += ajout\n",
    "                break\n"
   ]
  },
  {
   "cell_type": "markdown",
   "metadata": {},
   "source": [
    "## Part1"
   ]
  },
  {
   "cell_type": "code",
   "execution_count": 68,
   "metadata": {},
   "outputs": [
    {
     "data": {
      "text/plain": [
       "[2, 0, 4, 2, 7, 0, 1, 0, 3]"
      ]
     },
     "execution_count": 68,
     "metadata": {},
     "output_type": "execute_result"
    }
   ],
   "source": [
    "resulta = executer_programme(registre_a, registre_b, registre_c, programme)\n",
    "resulta"
   ]
  },
  {
   "cell_type": "markdown",
   "metadata": {},
   "source": [
    "## Part2"
   ]
  },
  {
   "cell_type": "code",
   "execution_count": 69,
   "metadata": {},
   "outputs": [
    {
     "data": {
      "text/plain": [
       "265601188299675"
      ]
     },
     "execution_count": 69,
     "metadata": {},
     "output_type": "execute_result"
    }
   ],
   "source": [
    "resulta = trouver_valeur_initiale(programme)\n",
    "resulta\n"
   ]
  },
  {
   "cell_type": "markdown",
   "metadata": {},
   "source": [
    "# Day 18"
   ]
  },
  {
   "cell_type": "code",
   "execution_count": 54,
   "metadata": {},
   "outputs": [],
   "source": [
    "lien_fichier = 'C:\\\\Python\\\\Advent_of_code_2024\\\\Input_Data\\\\Day_18.txt'\n",
    "\n",
    "taille = 71\n",
    "espace = [[True for _ in range(taille)] for _ in range(taille)]\n",
    "coordonnee_depart = (0, 0)\n",
    "coordonnee_arrivee = (70, 70)\n",
    "\n",
    "fichier = open(lien_fichier, \"r\")\n",
    "donnees = fichier.read().strip().split(\"\\n\")\n",
    "fichier.close()\n"
   ]
  },
  {
   "cell_type": "markdown",
   "metadata": {},
   "source": [
    "## Part1"
   ]
  },
  {
   "cell_type": "code",
   "execution_count": 55,
   "metadata": {},
   "outputs": [
    {
     "name": "stdout",
     "output_type": "stream",
     "text": [
      "436\n"
     ]
    }
   ],
   "source": [
    "for i in range(min(1024, len(donnees))):\n",
    "    ligne = donnees[i].strip()\n",
    "    if ligne == \"\":\n",
    "        continue\n",
    "    x, y = ligne.split(\",\")\n",
    "    x, y = int(x), int(y)\n",
    "    if 0 <= x < taille and 0 <= y < taille:\n",
    "        espace[y][x] = False\n",
    "\n",
    "from collections import deque\n",
    "\n",
    "file = deque()\n",
    "file.append((coordonnee_depart, 0))\n",
    "visite = set()\n",
    "visite.add(coordonnee_depart)\n",
    "\n",
    "directions = [(1,0),(-1,0),(0,1),(0,-1)]\n",
    "pas_min = None\n",
    "\n",
    "while file:\n",
    "    (cx, cy), dist = file.popleft()\n",
    "    if (cx, cy) == coordonnee_arrivee:\n",
    "        pas_min = dist\n",
    "        break\n",
    "    for dx, dy in directions:\n",
    "        nx, ny = cx+dx, cy+dy\n",
    "        if 0 <= nx < taille and 0 <= ny < taille:\n",
    "            if (nx, ny) not in visite and espace[ny][nx]:\n",
    "                visite.add((nx, ny))\n",
    "                file.append(((nx, ny), dist+1))\n",
    "\n",
    "print(pas_min if pas_min is not None else \"Aucun chemin\")\n"
   ]
  },
  {
   "cell_type": "markdown",
   "metadata": {},
   "source": [
    "## Part2"
   ]
  },
  {
   "cell_type": "code",
   "execution_count": 56,
   "metadata": {},
   "outputs": [
    {
     "name": "stdout",
     "output_type": "stream",
     "text": [
      "61,50\n"
     ]
    }
   ],
   "source": [
    "\n",
    "def est_chemin_possible():\n",
    "    from collections import deque\n",
    "    file = deque()\n",
    "    file.append(coordonnee_depart)\n",
    "    visite = set()\n",
    "    visite.add(coordonnee_depart)\n",
    "    directions = [(1,0),(-1,0),(0,1),(0,-1)]\n",
    "    while file:\n",
    "        cx, cy = file.popleft()\n",
    "        if (cx, cy) == coordonnee_arrivee:\n",
    "            return True\n",
    "        for dx, dy in directions:\n",
    "            nx, ny = cx+dx, cy+dy\n",
    "            if 0 <= nx < taille and 0 <= ny < taille:\n",
    "                if (nx, ny) not in visite and espace[ny][nx]:\n",
    "                    visite.add((nx, ny))\n",
    "                    file.append((nx, ny))\n",
    "    return False\n",
    "\n",
    "fichier = open(lien_fichier, \"r\")\n",
    "donnees = fichier.read().strip().split(\"\\n\")\n",
    "fichier.close()\n",
    "\n",
    "for i in range(len(donnees)):\n",
    "    ligne = donnees[i].strip()\n",
    "    if ligne == \"\":\n",
    "        continue\n",
    "    x, y = ligne.split(\",\")\n",
    "    x, y = int(x), int(y)\n",
    "    if 0 <= x < taille and 0 <= y < taille:\n",
    "        espace[y][x] = False\n",
    "    if not est_chemin_possible():\n",
    "        print(str(x)+\",\"+str(y))\n",
    "        break\n"
   ]
  },
  {
   "cell_type": "markdown",
   "metadata": {},
   "source": [
    "# Day 19 "
   ]
  },
  {
   "cell_type": "code",
   "execution_count": 63,
   "metadata": {},
   "outputs": [],
   "source": [
    "lien_fichier = 'C:\\\\Python\\\\Advent_of_code_2024\\\\Input_Data\\\\Day_19.txt'\n",
    "\n",
    "fichier = open(lien_fichier, \"r\")\n",
    "contenu = fichier.read().strip(\"\\n\")\n",
    "fichier.close()\n",
    "\n",
    "sections = contenu.split(\"\\n\\n\")\n",
    "patrons = sections[0].strip().split(\", \")\n",
    "designs = sections[1].strip().split(\"\\n\")"
   ]
  },
  {
   "cell_type": "markdown",
   "metadata": {},
   "source": [
    "## Part1"
   ]
  },
  {
   "cell_type": "code",
   "execution_count": 64,
   "metadata": {},
   "outputs": [
    {
     "data": {
      "text/plain": [
       "265"
      ]
     },
     "execution_count": 64,
     "metadata": {},
     "output_type": "execute_result"
    }
   ],
   "source": [
    "resulta = 0\n",
    "\n",
    "for design in designs:\n",
    "    longueur = len(design)\n",
    "    dp = [False]*(longueur+1)\n",
    "    dp[0] = True\n",
    "    for i in range(longueur):\n",
    "        if dp[i]:\n",
    "            for p in patrons:\n",
    "                plen = len(p)\n",
    "                if i+plen <= longueur and design[i:i+plen] == p:\n",
    "                    dp[i+plen] = True\n",
    "    if dp[longueur]:\n",
    "        resulta += 1\n",
    "\n",
    "resulta"
   ]
  },
  {
   "cell_type": "markdown",
   "metadata": {},
   "source": [
    "## Part2"
   ]
  },
  {
   "cell_type": "code",
   "execution_count": 66,
   "metadata": {},
   "outputs": [
    {
     "data": {
      "text/plain": [
       "752461716635602"
      ]
     },
     "execution_count": 66,
     "metadata": {},
     "output_type": "execute_result"
    }
   ],
   "source": [
    "resulta = 0\n",
    "\n",
    "for design in designs:\n",
    "    longueur = len(design)\n",
    "    dp = [0]*(longueur+1)\n",
    "    dp[0] = 1 \n",
    "    for i in range(longueur):\n",
    "        if dp[i] > 0:\n",
    "            for p in patrons:\n",
    "                plen = len(p)\n",
    "                if i+plen <= longueur and design[i:i+plen] == p:\n",
    "                    dp[i+plen] += dp[i]\n",
    "    resulta += dp[longueur]\n",
    "\n",
    "resulta"
   ]
  },
  {
   "cell_type": "markdown",
   "metadata": {},
   "source": [
    "# Day 20"
   ]
  },
  {
   "cell_type": "code",
   "execution_count": 73,
   "metadata": {},
   "outputs": [],
   "source": [
    "lien_fichier = 'C:\\\\Python\\\\Advent_of_code_2024\\\\Input_Data\\\\Day_20.txt'\n",
    "\n",
    "fichier = open(lien_fichier, \"r\")\n",
    "carte = fichier.read().split(\"\\n\")\n",
    "fichier.close()\n",
    "\n",
    "hauteur = len(carte)\n",
    "largeur = len(carte[0])\n",
    "\n",
    "pos_depart = None\n",
    "pos_arrivee = None\n",
    "for y in range(hauteur):\n",
    "    for x in range(largeur):\n",
    "        if carte[y][x] == 'S':\n",
    "            pos_depart = (x, y)\n",
    "        elif carte[y][x] == 'E':\n",
    "            pos_arrivee = (x, y)"
   ]
  },
  {
   "cell_type": "markdown",
   "metadata": {},
   "source": [
    "## Part1"
   ]
  },
  {
   "cell_type": "code",
   "execution_count": 75,
   "metadata": {},
   "outputs": [
    {
     "data": {
      "text/plain": [
       "1406"
      ]
     },
     "execution_count": 75,
     "metadata": {},
     "output_type": "execute_result"
    }
   ],
   "source": [
    "from collections import deque\n",
    "\n",
    "def est_libre(x, y):\n",
    "    if 0 <= x < largeur and 0 <= y < hauteur:\n",
    "        return carte[y][x] != '#'\n",
    "    return False\n",
    "\n",
    "def bfs_distance(depart, arrivee):\n",
    "    file = deque()\n",
    "    file.append((depart[0], depart[1], 0))\n",
    "    visite = set()\n",
    "    visite.add((depart[0], depart[1]))\n",
    "    while file:\n",
    "        x, y, d = file.popleft()\n",
    "        if (x, y) == arrivee:\n",
    "            return d\n",
    "        for dx, dy in [(1,0),(-1,0),(0,1),(0,-1)]:\n",
    "            nx, ny = x+dx, y+dy\n",
    "            if est_libre(nx, ny) and (nx, ny) not in visite:\n",
    "                visite.add((nx, ny))\n",
    "                file.append((nx, ny, d+1))\n",
    "    return None\n",
    "\n",
    "dist_sans_triche = bfs_distance(pos_depart, pos_arrivee)\n",
    "\n",
    "def bfs_distances(arrivee):\n",
    "    dist = [[None]*largeur for _ in range(hauteur)]\n",
    "    file = deque()\n",
    "    file.append((arrivee[0], arrivee[1], 0))\n",
    "    dist[arrivee[1]][arrivee[0]] = 0\n",
    "    while file:\n",
    "        x, y, d = file.popleft()\n",
    "        for dx, dy in [(1,0),(-1,0),(0,1),(0,-1)]:\n",
    "            nx, ny = x+dx, y+dy\n",
    "            if 0 <= nx < largeur and 0 <= ny < hauteur:\n",
    "                if carte[ny][nx] != '#' and dist[ny][nx] is None:\n",
    "                    dist[ny][nx] = d+1\n",
    "                    file.append((nx, ny, d+1))\n",
    "    return dist\n",
    "\n",
    "dist_arrivee = bfs_distances(pos_arrivee)\n",
    "dist_depart = bfs_distances(pos_depart)\n",
    "\n",
    "def voisins_triche(x, y, murs):\n",
    "    for dx, dy in [(1,0),(-1,0),(0,1),(0,-1)]:\n",
    "        nx, ny = x+dx, y+dy\n",
    "        if 0 <= nx < largeur and 0 <= ny < hauteur:\n",
    "            c = carte[ny][nx]\n",
    "            if c == '#' and murs > 0:\n",
    "                yield nx, ny, murs-1\n",
    "            elif c != '#':\n",
    "                yield nx, ny, murs\n",
    "\n",
    "resulta = 0\n",
    "deja_vu = set()\n",
    "\n",
    "for y in range(hauteur):\n",
    "    for x in range(largeur):\n",
    "        if dist_depart[y][x] is not None:\n",
    "            etat_initial = (x, y, 2, 0)\n",
    "            file = deque([etat_initial])\n",
    "            visite = set([etat_initial])\n",
    "            while file:\n",
    "                cx, cy, m, d = file.popleft()\n",
    "                if d > 2:\n",
    "                    continue\n",
    "                if d > 0 and carte[cy][cx] != '#':\n",
    "                    if dist_arrivee[cy][cx] is not None:\n",
    "                        temps_total = dist_depart[y][x] + d + dist_arrivee[cy][cx]\n",
    "                        economie = dist_sans_triche - temps_total\n",
    "                        if economie >= 100:\n",
    "                            if ((x,y),(cx,cy)) not in deja_vu:\n",
    "                                deja_vu.add(((x,y),(cx,cy)))\n",
    "                                resulta += 1\n",
    "                if d < 2:\n",
    "                    for nx, ny, nm in voisins_triche(cx, cy, m):\n",
    "                        etat = (nx, ny, nm, d+1)\n",
    "                        if etat not in visite:\n",
    "                            visite.add(etat)\n",
    "                            file.append(etat)\n",
    "\n",
    "resulta\n"
   ]
  },
  {
   "cell_type": "markdown",
   "metadata": {},
   "source": [
    "## Part2"
   ]
  },
  {
   "cell_type": "code",
   "execution_count": 76,
   "metadata": {},
   "outputs": [
    {
     "data": {
      "text/plain": [
       "1006101"
      ]
     },
     "execution_count": 76,
     "metadata": {},
     "output_type": "execute_result"
    }
   ],
   "source": [
    "def est_libre(x, y):\n",
    "    if 0 <= x < largeur and 0 <= y < hauteur:\n",
    "        return carte[y][x] != '#'\n",
    "    return False\n",
    "\n",
    "def bfs_distance(depart, arrivee):\n",
    "    file = deque()\n",
    "    file.append((depart[0], depart[1], 0))\n",
    "    visite = set()\n",
    "    visite.add((depart[0], depart[1]))\n",
    "    while file:\n",
    "        x, y, d = file.popleft()\n",
    "        if (x, y) == arrivee:\n",
    "            return d\n",
    "        for dx, dy in [(1,0),(-1,0),(0,1),(0,-1)]:\n",
    "            nx, ny = x+dx, y+dy\n",
    "            if est_libre(nx, ny) and (nx, ny) not in visite:\n",
    "                visite.add((nx, ny))\n",
    "                file.append((nx, ny, d+1))\n",
    "    return None\n",
    "\n",
    "dist_sans_triche = bfs_distance(pos_depart, pos_arrivee)\n",
    "\n",
    "def bfs_distances(arrivee):\n",
    "    dist = [[None]*largeur for _ in range(hauteur)]\n",
    "    file = deque()\n",
    "    file.append((arrivee[0], arrivee[1], 0))\n",
    "    dist[arrivee[1]][arrivee[0]] = 0\n",
    "    while file:\n",
    "        x, y, d = file.popleft()\n",
    "        for dx, dy in [(1,0),(-1,0),(0,1),(0,-1)]:\n",
    "            nx, ny = x+dx, y+dy\n",
    "            if 0 <= nx < largeur and 0 <= ny < hauteur:\n",
    "                if carte[ny][nx] != '#' and dist[ny][nx] is None:\n",
    "                    dist[ny][nx] = d+1\n",
    "                    file.append((nx, ny, d+1))\n",
    "    return dist\n",
    "\n",
    "dist_arrivee = bfs_distances(pos_arrivee)\n",
    "dist_depart = bfs_distances(pos_depart)\n",
    "\n",
    "resulta = 0\n",
    "deja_vu = set()\n",
    "\n",
    "valides = []\n",
    "for y in range(hauteur):\n",
    "    for x in range(largeur):\n",
    "        if dist_depart[y][x] is not None and dist_arrivee[y][x] is not None:\n",
    "            valides.append((x,y))\n",
    "\n",
    "for (sx, sy) in valides:\n",
    "    d_dep = dist_depart[sy][sx]\n",
    "    file = deque()\n",
    "    visite = set()\n",
    "    file.append((sx, sy, 0)) \n",
    "    visite.add((sx, sy, 0))\n",
    "    while file:\n",
    "        cx, cy, d_triche = file.popleft()\n",
    "        if d_triche > 0 and carte[cy][cx] != '#':\n",
    "            if dist_arrivee[cy][cx] is not None:\n",
    "                temps_total = d_dep + d_triche + dist_arrivee[cy][cx]\n",
    "                economie = dist_sans_triche - temps_total\n",
    "                if economie >= 100:\n",
    "                    if ((sx,sy),(cx,cy)) not in deja_vu:\n",
    "                        deja_vu.add(((sx,sy),(cx,cy)))\n",
    "                        resulta += 1\n",
    "        if d_triche < 20:\n",
    "            for dx, dy in [(1,0),(-1,0),(0,1),(0,-1)]:\n",
    "                nx, ny = cx+dx, cy+dy\n",
    "                if 0 <= nx < largeur and 0 <= ny < hauteur:\n",
    "                    etat = (nx, ny, d_triche+1)\n",
    "                    if etat not in visite:\n",
    "                        visite.add(etat)\n",
    "                        file.append(etat)\n",
    "\n",
    "resulta"
   ]
  },
  {
   "cell_type": "markdown",
   "metadata": {},
   "source": [
    "# Day 21"
   ]
  },
  {
   "cell_type": "code",
   "execution_count": 6,
   "metadata": {},
   "outputs": [
    {
     "data": {
      "text/plain": [
       "['879A', '508A', '463A', '593A', '189A']"
      ]
     },
     "execution_count": 6,
     "metadata": {},
     "output_type": "execute_result"
    }
   ],
   "source": [
    "lien_fichier = 'C:\\\\Python\\\\Advent_of_code_2024\\\\Input_Data\\\\Day_21.txt'\n",
    "\n",
    "with open(lien_fichier, 'r') as file:\n",
    "    lignes = file.readlines()\n",
    "\n",
    "codes_clavier = [ligne.strip() for ligne in lignes]\n",
    "codes_clavier"
   ]
  },
  {
   "cell_type": "markdown",
   "metadata": {},
   "source": [
    "## Part1"
   ]
  },
  {
   "cell_type": "code",
   "execution_count": null,
   "metadata": {},
   "outputs": [],
   "source": [
    "from collections import defaultdict\n",
    "from functools import cache\n",
    "\n",
    "def parse_moves(clavier):\n",
    "        def obtenir_position_touche(clavier):\n",
    "            position = {}\n",
    "            for ligne, rangee in enumerate(clavier):\n",
    "                for colonne, touche in enumerate(rangee):\n",
    "                    position[touche] = (ligne, colonne)\n",
    "            return position\n",
    "\n",
    "        position = obtenir_position_touche(clavier)\n",
    "        touches = sorted(position.keys())\n",
    "\n",
    "        mouvements = defaultdict(list)\n",
    "        for touche1 in touches:\n",
    "            for touche2 in touches:\n",
    "                if touche1 == \"#\" or touche2 == \"#\" or touche1 == touche2:\n",
    "                    continue\n",
    "                p1 = position[touche1]\n",
    "                p2 = position[touche2]\n",
    "\n",
    "                if p1[0] == p2[0]:\n",
    "                    d = \">\" if p2[1] > p1[1] else \"<\"\n",
    "                    mouvements[(touche1, touche2)].append(d * (abs(p2[1] - p1[1])) + \"A\")\n",
    "                elif p1[1] == p2[1]:\n",
    "                    d = \"v\" if p2[0] > p1[0] else \"^\"\n",
    "                    mouvements[(touche1, touche2)].append(d * (abs(p2[0] - p1[0])) + \"A\")\n",
    "                else:\n",
    "                    if p1[0] != position[\"#\"][0] or p2[1] != position[\"#\"][1]:\n",
    "                        d1 = \">\" if p2[1] > p1[1] else \"<\"\n",
    "                        d2 = \"v\" if p2[0] > p1[0] else \"^\"\n",
    "                        mouvements[(touche1, touche2)].append(d1 * (abs(p2[1] - p1[1])) + d2 * (abs(p2[0] - p1[0])) + \"A\")\n",
    "                    if p1[1] != position[\"#\"][1] or p2[0] != position[\"#\"][0]:\n",
    "                        d1 = \"v\" if p2[0] > p1[0] else \"^\"\n",
    "                        d2 = \">\" if p2[1] > p1[1] else \"<\"\n",
    "                        mouvements[(touche1, touche2)].append(d1 * (abs(p2[0] - p1[0])) + d2 * (abs(p2[1] - p1[1])) + \"A\")\n",
    "        return mouvements\n",
    "\n",
    "def construire_combinaisons(tableaux, actuel=[], index=0):\n",
    "        if index == len(tableaux):\n",
    "            return [actuel]\n",
    "        resultats = []\n",
    "        for valeur in tableaux[index]:\n",
    "            nouveaux_resultats = construire_combinaisons(tableaux, actuel + [valeur], index + 1)\n",
    "            resultats.extend(nouveaux_resultats)\n",
    "        return resultats\n",
    "\n",
    "@cache\n",
    "def traduire(code, profondeur):\n",
    "        if code[0].isnumeric():\n",
    "            mouvements = traduire_clavier_numerique(code)\n",
    "        else:\n",
    "            mouvements = traduire_clavier_directionnel(code)\n",
    "\n",
    "        if profondeur == 0:\n",
    "            return min([sum(map(len, mouvement)) for mouvement in mouvements])\n",
    "        else:\n",
    "            return min([sum(traduire(code_actuel, profondeur - 1) for code_actuel in mouvement) for mouvement in mouvements])\n",
    "\n",
    "def traduire_clavier_numerique(code):\n",
    "        code = \"A\" + code\n",
    "        mouvements = parse_moves(clavier)\n",
    "        mouvements = [mouvements(a, b)] for a, b in zip(code, code[1:])\n",
    "        mouvements = construire_combinaisons(mouvements)\n",
    "        return mouvements\n",
    "\n",
    "def traduire_clavier_directionnel(code):\n",
    "        code = \"A\" + code\n",
    "        mouvements = [mouvements[(a, b)] if a != b else [\"A\"] for a, b in zip(code, code[1:])]\n",
    "        mouvements = construire_combinaisons(mouvements)\n",
    "        return mouvements\n",
    "\n",
    "def partie1(donnees):\n",
    "        clavier1 = [\"789\", \"456\", \"123\", \"#0A\"]\n",
    "        clavier2 = [\"#^A\", \"<v>\"]\n",
    "\n",
    "\n",
    "        complexites = 0\n",
    "\n",
    "        for code in donnees:\n",
    "            longueur_minimale = traduire(code, 2)\n",
    "            complexites += longueur_minimale * int(code[:-1])\n",
    "\n",
    "        return complexites\n",
    "\n",
    "resulta = partie1(codes_clavier)\n",
    "resulta"
   ]
  },
  {
   "cell_type": "markdown",
   "metadata": {},
   "source": [
    "# Day 22"
   ]
  },
  {
   "cell_type": "code",
   "execution_count": 2,
   "metadata": {},
   "outputs": [],
   "source": [
    "lien_fichier = 'C:\\\\Python\\\\Advent_of_code_2024\\\\Input_Data\\\\Day_22.txt'\n",
    "\n",
    "with open(lien_fichier, 'r') as fichier:\n",
    "    donnees = fichier.readlines()"
   ]
  },
  {
   "cell_type": "markdown",
   "metadata": {},
   "source": [
    "## Part1"
   ]
  },
  {
   "cell_type": "code",
   "execution_count": 3,
   "metadata": {},
   "outputs": [
    {
     "data": {
      "text/plain": [
       "14273043166"
      ]
     },
     "execution_count": 3,
     "metadata": {},
     "output_type": "execute_result"
    }
   ],
   "source": [
    "def partie1(donnees):\n",
    "    resultats = []\n",
    "    for secret in map(int, donnees):\n",
    "        for _ in range(2000):\n",
    "            secret = ((secret * 64) ^ secret) % 16777216\n",
    "            secret = ((secret // 32) ^ secret) % 16777216\n",
    "            secret = ((secret * 2048) ^ secret) % 16777216\n",
    "        resultats.append(secret)\n",
    "    return sum(resultats)\n",
    "\n",
    "resulta = partie1(donnees)\n",
    "resulta"
   ]
  },
  {
   "cell_type": "markdown",
   "metadata": {},
   "source": [
    "## Part2"
   ]
  },
  {
   "cell_type": "code",
   "execution_count": 2,
   "metadata": {},
   "outputs": [
    {
     "ename": "NameError",
     "evalue": "name 'donnees' is not defined",
     "output_type": "error",
     "traceback": [
      "\u001b[1;31m---------------------------------------------------------------------------\u001b[0m",
      "\u001b[1;31mNameError\u001b[0m                                 Traceback (most recent call last)",
      "Cell \u001b[1;32mIn[2], line 29\u001b[0m\n\u001b[0;32m     25\u001b[0m     montant_maximal \u001b[38;5;241m=\u001b[39m \u001b[38;5;28mmax\u001b[39m(montants\u001b[38;5;241m.\u001b[39mvalues())\n\u001b[0;32m     27\u001b[0m     \u001b[38;5;28;01mreturn\u001b[39;00m montant_maximal\n\u001b[1;32m---> 29\u001b[0m resulta \u001b[38;5;241m=\u001b[39m partie2(\u001b[43mdonnees\u001b[49m)\n\u001b[0;32m     30\u001b[0m resulta\n",
      "\u001b[1;31mNameError\u001b[0m: name 'donnees' is not defined"
     ]
    }
   ],
   "source": [
    "from collections import defaultdict\n",
    "\n",
    "def partie2(donnees):\n",
    "    prix = []\n",
    "    for secret in map(int, donnees):\n",
    "        prix_individuel = []\n",
    "        for _ in range(2000):\n",
    "            secret = ((secret * 64) ^ secret) % 16777216\n",
    "            secret = ((secret // 32) ^ secret) % 16777216\n",
    "            secret = ((secret * 2048) ^ secret) % 16777216\n",
    "            prix_individuel.append(secret % 10)\n",
    "        prix.append(prix_individuel)\n",
    "\n",
    "    changements = [[b - a for a, b in zip(p, p[1:])] for p in prix]\n",
    "\n",
    "    montants = defaultdict(int)\n",
    "    for acheteur_idx, changement in enumerate(changements):\n",
    "        cles = set()\n",
    "        for i in range(len(changement) - 3):\n",
    "            cle = tuple(changement[i : i + 4])\n",
    "            if cle in cles:\n",
    "                continue\n",
    "            montants[cle] += prix[acheteur_idx][i + 4]\n",
    "            cles.add(cle)\n",
    "    montant_maximal = max(montants.values())\n",
    "\n",
    "    return montant_maximal\n",
    "\n",
    "resulta = partie2(donnees)\n",
    "resulta"
   ]
  }
 ],
 "metadata": {
  "kernelspec": {
   "display_name": "base",
   "language": "python",
   "name": "python3"
  },
  "language_info": {
   "codemirror_mode": {
    "name": "ipython",
    "version": 3
   },
   "file_extension": ".py",
   "mimetype": "text/x-python",
   "name": "python",
   "nbconvert_exporter": "python",
   "pygments_lexer": "ipython3",
   "version": "3.11.5"
  }
 },
 "nbformat": 4,
 "nbformat_minor": 2
}
