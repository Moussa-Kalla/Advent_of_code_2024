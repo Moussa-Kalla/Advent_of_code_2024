{
 "cells": [
  {
   "cell_type": "markdown",
   "metadata": {},
   "source": [
    "# Day 1 "
   ]
  },
  {
   "cell_type": "markdown",
   "metadata": {},
   "source": [
    "# Part1\n",
    "\n",
    "Soient deux listes de nbrs réels, **x** et **y**, toutes deux strictement croissantes :\n",
    "$$\n",
    "x = \\begin{pmatrix}\n",
    "x_0 \\\\\n",
    "x_1 \\\\\n",
    "\\vdots \\\\\n",
    "x_n\n",
    "\\end{pmatrix}\n",
    ", \\quad\n",
    "y = \\begin{pmatrix}\n",
    "y_0 \\\\\n",
    "y_1 \\\\\n",
    "\\vdots \\\\\n",
    "y_n\n",
    "\\end{pmatrix}\n",
    "$$\n",
    "La distance de la norme 1 ou distance de Manhattan entre entre **x** et **y**  est définie comme suit :\n",
    "$$D(x,y) = \\sum_{i = 0}^n |x_i - y_i|$$"
   ]
  },
  {
   "cell_type": "code",
   "execution_count": 26,
   "metadata": {},
   "outputs": [
    {
     "data": {
      "text/plain": [
       "11"
      ]
     },
     "execution_count": 26,
     "metadata": {},
     "output_type": "execute_result"
    }
   ],
   "source": [
    "liste1 =  [3, 4, 2, 1, 3 ,3]\n",
    "liste2 = [4, 3, 5, 3, 9, 3]\n",
    "\n",
    "def total_distance(liste1, liste2):\n",
    "  liste1.sort()\n",
    "  liste2.sort()\n",
    "\n",
    "  distance = 0\n",
    "  for num1, num2 in zip(liste1, liste2):\n",
    "    distance += abs(num1 - num2)\n",
    "\n",
    "  return distance\n",
    "resul = total_distance(liste1, liste2)\n",
    "resul"
   ]
  },
  {
   "cell_type": "code",
   "execution_count": 27,
   "metadata": {},
   "outputs": [
    {
     "data": {
      "text/plain": [
       "1830467"
      ]
     },
     "execution_count": 27,
     "metadata": {},
     "output_type": "execute_result"
    }
   ],
   "source": [
    "\n",
    "lien_fichier = 'C:\\\\Python\\\\Advent_of_code_2024\\\\Input_Data\\\\Day_1.txt'\n",
    "\n",
    "liste1 = []\n",
    "liste2 = []\n",
    "\n",
    "with open(lien_fichier, 'r') as f:\n",
    "    for line in f:\n",
    "        num1, num2 = map(int, line.split())\n",
    "        liste1.append(num1)\n",
    "        liste2.append(num2)\n",
    "\n",
    "resulta = total_distance(liste1, liste2)\n",
    "resulta"
   ]
  },
  {
   "cell_type": "markdown",
   "metadata": {},
   "source": [
    "## Part 2"
   ]
  },
  {
   "cell_type": "code",
   "execution_count": 28,
   "metadata": {},
   "outputs": [
    {
     "data": {
      "text/plain": [
       "26674158"
      ]
     },
     "execution_count": 28,
     "metadata": {},
     "output_type": "execute_result"
    }
   ],
   "source": [
    "def score_similarité(liste1, liste2):\n",
    "    similarité = 0\n",
    "    for num in liste1:\n",
    "        similarité += num * liste2.count(num)\n",
    "    return similarité\n",
    "\n",
    "resulta = score_similarité(liste1, liste2)\n",
    "resulta"
   ]
  },
  {
   "cell_type": "markdown",
   "metadata": {},
   "source": [
    "# Day 2"
   ]
  },
  {
   "cell_type": "markdown",
   "metadata": {},
   "source": [
    "## Part 1"
   ]
  },
  {
   "cell_type": "code",
   "execution_count": 29,
   "metadata": {},
   "outputs": [
    {
     "data": {
      "text/plain": [
       "279"
      ]
     },
     "execution_count": 29,
     "metadata": {},
     "output_type": "execute_result"
    }
   ],
   "source": [
    "def est_rapport_sur(rapport):\n",
    "\n",
    "    direct_o = None \n",
    "\n",
    "    for i in range(1, len(rapport)):\n",
    "        difference = rapport[i] - rapport[i - 1]\n",
    "        if direct_o is None:\n",
    "            direct_o = \"croissante\" if difference > 0 else \"décroissante\"\n",
    "        if (direct_o == \"croissante\" and not 1 <= difference <= 3) or \\\n",
    "           (direct_o == \"décroissante\" and not -3 <= difference <= -1):\n",
    "            return False\n",
    "    return True\n",
    "\n",
    "def compter_rapports_surs(rapports):\n",
    "\n",
    "    compteur_surs = 0\n",
    "    for rapport in rapports:\n",
    "        if est_rapport_sur(rapport):\n",
    "            compteur_surs += 1\n",
    "    return compteur_surs\n",
    "\n",
    "with open('C:\\\\Python\\\\Advent_of_code_2024\\\\Input_Data\\\\Day_2.txt', 'r') as fichier:\n",
    "    rapports = [[int(nbr) for nbr in lgn.strip().split()] for lgn in fichier]\n",
    "\n",
    "resulta = compter_rapports_surs(rapports)\n",
    "resulta"
   ]
  },
  {
   "cell_type": "markdown",
   "metadata": {},
   "source": [
    "## Part 2"
   ]
  },
  {
   "cell_type": "code",
   "execution_count": null,
   "metadata": {},
   "outputs": [],
   "source": []
  },
  {
   "cell_type": "markdown",
   "metadata": {},
   "source": [
    "# Day 3"
   ]
  },
  {
   "cell_type": "code",
   "execution_count": 30,
   "metadata": {},
   "outputs": [],
   "source": [
    "lien_fichier = 'C:\\\\Python\\\\Advent_of_code_2024\\\\Input_Data\\\\Day_3.txt'"
   ]
  },
  {
   "cell_type": "markdown",
   "metadata": {},
   "source": [
    "## Part 1"
   ]
  },
  {
   "cell_type": "code",
   "execution_count": 31,
   "metadata": {},
   "outputs": [
    {
     "data": {
      "text/plain": [
       "161085926"
      ]
     },
     "execution_count": 31,
     "metadata": {},
     "output_type": "execute_result"
    }
   ],
   "source": [
    "import re\n",
    "\n",
    "def calcul_somme_produit_mul(lien_fichier):\n",
    "\n",
    "    with open(lien_fichier, 'r') as file:\n",
    "        data = file.read()\n",
    "\n",
    "    pattern = r\"mul\\((\\d+),(\\d+)\\)\"\n",
    "\n",
    "    corresp = re.findall(pattern, data)\n",
    "\n",
    "    somme_totale = sum(int(x) * int(y) for x, y in corresp)\n",
    "\n",
    "    return somme_totale, corresp\n",
    "\n",
    "somme_totale, corresp = calcul_somme_produit_mul(lien_fichier)\n",
    "somme_totale"
   ]
  },
  {
   "cell_type": "markdown",
   "metadata": {},
   "source": [
    "# Part 2"
   ]
  },
  {
   "cell_type": "code",
   "execution_count": 32,
   "metadata": {},
   "outputs": [
    {
     "data": {
      "text/plain": [
       "82045421"
      ]
     },
     "execution_count": 32,
     "metadata": {},
     "output_type": "execute_result"
    }
   ],
   "source": [
    "def calcul_somme_produit_conditionnelle_mul(lien_fichier):\n",
    "    with open(lien_fichier, 'r') as file:\n",
    "        data_texte = file.read()\n",
    "    pattern = r\"(mul\\((\\d{1,3}),(\\d{1,3})\\)|do\\(\\)|don't\\(\\))\"\n",
    "    instructions = re.findall(pattern, data_texte)\n",
    "\n",
    "    enabled = True\n",
    "    resulta = 0\n",
    "\n",
    "    for inst in instructions:\n",
    "        match inst[0]:\n",
    "            case \"do()\":\n",
    "                    enabled = True\n",
    "            case \"don't()\":\n",
    "                    enabled = False\n",
    "            case _ if enabled:\n",
    "                    resulta += int(inst[1]) * int(inst[2])\n",
    "    return resulta, instructions\n",
    "\n",
    "resulta, instructions = calcul_somme_produit_conditionnelle_mul(lien_fichier)\n",
    "resulta"
   ]
  },
  {
   "cell_type": "markdown",
   "metadata": {},
   "source": [
    "# Day 4"
   ]
  },
  {
   "cell_type": "code",
   "execution_count": 33,
   "metadata": {},
   "outputs": [],
   "source": [
    "lien_fichier = 'C:\\\\Python\\\\Advent_of_code_2024\\\\Input_Data\\\\Day_4.txt'"
   ]
  },
  {
   "cell_type": "markdown",
   "metadata": {},
   "source": [
    "## Part1"
   ]
  },
  {
   "cell_type": "code",
   "execution_count": 34,
   "metadata": {},
   "outputs": [
    {
     "data": {
      "text/plain": [
       "2613"
      ]
     },
     "execution_count": 34,
     "metadata": {},
     "output_type": "execute_result"
    }
   ],
   "source": [
    "def nbr_xmas(lien_fichier, mot=\"XMAS\"):\n",
    "    with open(lien_fichier, 'r') as file:\n",
    "        grille = [list(line.strip()) for line in file.readlines()]  \n",
    "\n",
    "    lgn, col = len(grille), len(grille[0])\n",
    "    word_length = len(mot)\n",
    "    nbr = 0\n",
    "    direct_os = [ (0, 1), (1, 0), (1, 1), (1, -1), (0, -1), (-1, 0), (-1, -1), (-1, 1) ]\n",
    "\n",
    "    def is_word_at(x, y, dx, dy):\n",
    "        for i in range(word_length):\n",
    "            nx, ny = x + i * dx, y + i * dy\n",
    "            if nx < 0 or ny < 0 or nx >= lgn or ny >= col or grille[nx][ny] != mot[i]:\n",
    "                return False\n",
    "        return True\n",
    "\n",
    "    for i in range(lgn):\n",
    "        for j in range(col):\n",
    "            for dx, dy in direct_os:\n",
    "                if is_word_at(i, j, dx, dy):\n",
    "                    nbr += 1\n",
    "    return nbr\n",
    "\n",
    "resulta = nbr_xmas(lien_fichier)\n",
    "resulta"
   ]
  },
  {
   "cell_type": "markdown",
   "metadata": {},
   "source": [
    "## Part 2"
   ]
  },
  {
   "cell_type": "code",
   "execution_count": 35,
   "metadata": {},
   "outputs": [
    {
     "data": {
      "text/plain": [
       "1905"
      ]
     },
     "execution_count": 35,
     "metadata": {},
     "output_type": "execute_result"
    }
   ],
   "source": [
    "def nbr_x_mas(lien_fichier):\n",
    "        with open(lien_fichier, 'r') as file:\n",
    "            grille = [list(line.strip()) for line in file.readlines()]  \n",
    "            \n",
    "        lgn, col = len(grille), len(grille[0])\n",
    "        nbr = 0\n",
    "        lettres = {\"M\", \"S\"}\n",
    "        \n",
    "        for i in range(1, lgn - 1):\n",
    "            for j in range(1, col - 1):\n",
    "                if grille[i][j] == \"A\":\n",
    "                    if {grille[i - 1][j - 1], grille[i + 1][j + 1]} == lettres and {grille[i - 1][j + 1], grille[i + 1][j - 1]} == lettres:\n",
    "                        nbr += 1\n",
    "\n",
    "        return nbr\n",
    "resulta = nbr_x_mas(lien_fichier)\n",
    "resulta"
   ]
  },
  {
   "cell_type": "markdown",
   "metadata": {},
   "source": [
    "# Day 5"
   ]
  },
  {
   "cell_type": "code",
   "execution_count": 36,
   "metadata": {},
   "outputs": [],
   "source": [
    "lien_fichier = 'C:\\\\Python\\\\Advent_of_code_2024\\\\Input_Data\\\\Day_5.txt'\n",
    "\n",
    "def lecture_fichier_txt(lien_fichier):\n",
    "    with open(lien_fichier, 'r') as fichier:\n",
    "        lignes = fichier.readlines()\n",
    "\n",
    "    regles = []\n",
    "    ms_a_j = []\n",
    "    en_mode_ms_a_j = False\n",
    "\n",
    "    for ligne in lignes:\n",
    "        ligne = ligne.strip()\n",
    "        if not ligne:\n",
    "            en_mode_ms_a_j = True\n",
    "            continue\n",
    "        if en_mode_ms_a_j:\n",
    "            ms_a_j.append(list(map(int, ligne.split(','))))\n",
    "        else:\n",
    "            regles.append(list(map(int, ligne.split('|'))))\n",
    "    return regles, ms_a_j\n",
    "\n",
    "liste_regles, liste_ms_a_j = lecture_fichier_txt(lien_fichier)"
   ]
  },
  {
   "cell_type": "markdown",
   "metadata": {},
   "source": [
    "## Part1"
   ]
  },
  {
   "cell_type": "code",
   "execution_count": 37,
   "metadata": {},
   "outputs": [
    {
     "data": {
      "text/plain": [
       "4766"
      ]
     },
     "execution_count": 37,
     "metadata": {},
     "output_type": "execute_result"
    }
   ],
   "source": [
    "from collections import defaultdict\n",
    "\n",
    "def const_graphe(liste_regles):\n",
    "    graphe = defaultdict(list)\n",
    "    for origine, destination in liste_regles:\n",
    "        graphe[origine].append(destination)\n",
    "    return graphe\n",
    "\n",
    "def m_a_j_valide(m_a_j, graphe):\n",
    "    index_page = {page: i for i, page in enumerate(m_a_j)}\n",
    "    for origine, destinations in graphe.items():\n",
    "        if origine in index_page:\n",
    "            for destination in destinations:\n",
    "                if destination in index_page and index_page[origine] > index_page[destination]:\n",
    "                    return False\n",
    "    return True\n",
    "\n",
    "def trouver_page_milieu(m_a_j):\n",
    "    index_milieu = len(m_a_j) // 2\n",
    "    return m_a_j[index_milieu]\n",
    "\n",
    "def traiter_ms_a_j(liste_regles, liste_ms_a_j):\n",
    "    graphe = const_graphe(liste_regles)\n",
    "    ms_a_j_valides = []\n",
    "    for m_a_j in liste_ms_a_j:\n",
    "        if m_a_j_valide(m_a_j, graphe):\n",
    "            ms_a_j_valides.append(m_a_j)\n",
    "    somme_milieux = sum(trouver_page_milieu(m_a_j) for m_a_j in ms_a_j_valides)\n",
    "    return somme_milieux, ms_a_j_valides\n",
    "\n",
    "\n",
    "resulta, ms_a_j_valides = traiter_ms_a_j(liste_regles, liste_ms_a_j)\n",
    "resulta"
   ]
  },
  {
   "cell_type": "markdown",
   "metadata": {},
   "source": [
    "## Part2"
   ]
  },
  {
   "cell_type": "code",
   "execution_count": 38,
   "metadata": {},
   "outputs": [
    {
     "data": {
      "text/plain": [
       "6257"
      ]
     },
     "execution_count": 38,
     "metadata": {},
     "output_type": "execute_result"
    }
   ],
   "source": [
    "from collections import deque\n",
    "\n",
    "def tri_topologique(m_a_j, graphe):\n",
    "    degre_ent = defaultdict(int)\n",
    "    liste_adj = defaultdict(list)\n",
    "    ens_m_a_j = set(m_a_j)\n",
    "\n",
    "    for x in ens_m_a_j:\n",
    "        for y in graphe.get(x, []):\n",
    "            if y in ens_m_a_j:\n",
    "                liste_adj[x].append(y)\n",
    "                degre_ent[y] += 1\n",
    "\n",
    "    file = deque([x for x in ens_m_a_j if degre_ent[x] == 0])\n",
    "    m_a_j_triee = []\n",
    "\n",
    "    while file:\n",
    "        courant = file.popleft()\n",
    "        m_a_j_triee.append(courant)\n",
    "        for voisin in liste_adj[courant]:\n",
    "            degre_ent[voisin] -= 1\n",
    "            if degre_ent[voisin] == 0:\n",
    "                file.append(voisin)\n",
    "    return m_a_j_triee\n",
    "\n",
    "def corriger_ms_a_j(liste_regles, liste_ms_a_j):\n",
    "    graphe = const_graphe(liste_regles)\n",
    "    ms_a_j_incorrectes = [m_a_j for m_a_j in liste_ms_a_j if not m_a_j_valide(m_a_j, graphe)]\n",
    "    ms_a_j_corrigees = []\n",
    "    for m_a_j in ms_a_j_incorrectes:\n",
    "        m_a_j_corrigee = tri_topologique(m_a_j, graphe)\n",
    "        ms_a_j_corrigees.append(m_a_j_corrigee)\n",
    "    somme_milieux = sum(trouver_page_milieu(m_a_j) for m_a_j in ms_a_j_corrigees)\n",
    "    return somme_milieux, ms_a_j_corrigees\n",
    "\n",
    "resulta, ms_a_j_corrigees = corriger_ms_a_j(liste_regles, liste_ms_a_j)\n",
    "resulta"
   ]
  },
  {
   "cell_type": "markdown",
   "metadata": {},
   "source": [
    "# Day 6"
   ]
  },
  {
   "cell_type": "code",
   "execution_count": 39,
   "metadata": {},
   "outputs": [],
   "source": [
    "lien_fichier = 'C:\\\\Python\\\\Advent_of_code_2024\\\\Input_Data\\\\Day_6.txt'\n",
    "\n",
    "def lire_fich_txt(lien_fichier):\n",
    "    with open(lien_fichier, 'r') as fichier:\n",
    "        return [list(ligne.strip()) for ligne in fichier]\n",
    "    \n",
    "grille = lire_fich_txt(lien_fichier)"
   ]
  },
  {
   "cell_type": "markdown",
   "metadata": {},
   "source": [
    "## Part1"
   ]
  },
  {
   "cell_type": "code",
   "execution_count": 40,
   "metadata": {},
   "outputs": [
    {
     "data": {
      "text/plain": [
       "5453"
      ]
     },
     "execution_count": 40,
     "metadata": {},
     "output_type": "execute_result"
    }
   ],
   "source": [
    "def simul_chmin(grille):\n",
    "    direct_os = [(-1, 0), (0, 1), (1, 0), (0, -1)]\n",
    "    direct_o_actu = 0 \n",
    "    poss_visitees = set() \n",
    "\n",
    "    lignes = len(grille)\n",
    "    cols = len(grille[0])\n",
    "    for ligne in range(lignes):\n",
    "        for col in range(cols):\n",
    "            if grille[ligne][col] in \"^>v<\":\n",
    "                x, y = ligne, col\n",
    "                if grille[ligne][col] == \">\":\n",
    "                    direct_o_actu = 1\n",
    "                elif grille[ligne][col] == \"v\":\n",
    "                    direct_o_actu = 2\n",
    "                elif grille[ligne][col] == \"<\":\n",
    "                    direct_o_actu = 3\n",
    "                grille[ligne][col] = \".\" \n",
    "\n",
    "    while 0 <= x < lignes and 0 <= y < cols:\n",
    "        poss_visitees.add((x, y)) \n",
    "        dx, dy = direct_os[direct_o_actu]\n",
    "        nx, ny = x + dx, y + dy\n",
    "\n",
    "        if 0 <= nx < lignes and 0 <= ny < cols and grille[nx][ny] == \"#\":\n",
    "            direct_o_actu = (direct_o_actu + 1) % 4\n",
    "        else:\n",
    "            x, y = nx, ny\n",
    "    return len(poss_visitees)\n",
    "\n",
    "resulta = simul_chmin(grille)\n",
    "resulta\n"
   ]
  },
  {
   "cell_type": "markdown",
   "metadata": {},
   "source": [
    "## Part2"
   ]
  },
  {
   "cell_type": "code",
   "execution_count": 16,
   "metadata": {},
   "outputs": [
    {
     "data": {
      "text/plain": [
       "2188"
      ]
     },
     "execution_count": 16,
     "metadata": {},
     "output_type": "execute_result"
    }
   ],
   "source": [
    "def simul_chmin_bcl(grille, obst=None):\n",
    "    direct_os = [(-1, 0), (0, 1), (1, 0), (0, -1)]\n",
    "    direct_o_actu = 0 \n",
    "    poss_visitees = set() \n",
    "    seq_visitee = [] \n",
    "\n",
    "    lignes = len(grille)\n",
    "    cols = len(grille[0])\n",
    "    for ligne in range(lignes):\n",
    "        for col in range(cols):\n",
    "            if grille[ligne][col] in \"^>v<\":\n",
    "                x, y = ligne, col\n",
    "                if grille[ligne][col] == \">\":\n",
    "                    direct_o_actu = 1\n",
    "                elif grille[ligne][col] == \"v\":\n",
    "                    direct_o_actu = 2\n",
    "                elif grille[ligne][col] == \"<\":\n",
    "                    direct_o_actu = 3\n",
    "                grille[ligne][col] = \".\"\n",
    "    if obst:\n",
    "        grille[obst[0]][obst[1]] = \"#\"\n",
    "\n",
    "    while 0 <= x < lignes and 0 <= y < cols:\n",
    "        etat_act = (x, y, direct_o_actu)\n",
    "        if etat_act in poss_visitees:\n",
    "            return True\n",
    "        \n",
    "        poss_visitees.add(etat_act)\n",
    "        seq_visitee.append(etat_act)\n",
    "\n",
    "        dx, dy = direct_os[direct_o_actu]\n",
    "        nx, ny = x + dx, y + dy\n",
    "\n",
    "        if 0 <= nx < lignes and 0 <= ny < cols and grille[nx][ny] == \"#\":\n",
    "            direct_o_actu = (direct_o_actu + 1) % 4\n",
    "        else:\n",
    "            x, y = nx, ny\n",
    "    return False\n",
    "\n",
    "def trouver_poss_obst(grille):\n",
    "    lignes = len(grille)\n",
    "    cols = len(grille[0])\n",
    "    poss_possibles = []\n",
    "\n",
    "    for ligne in range(lignes):\n",
    "        for col in range(cols):\n",
    "            if grille[ligne][col] == \"#\" or grille[ligne][col] in \"^>v<\":\n",
    "                continue\n",
    "            if simul_chmin_bcl([ligne[:] for ligne in grille], (ligne, col)):\n",
    "                poss_possibles.append((ligne, col))\n",
    "\n",
    "    return poss_possibles\n",
    "\n",
    "grille = lire_fich_txt(lien_fichier)\n",
    "\n",
    "resulta = len(trouver_poss_obst(grille))\n",
    "resulta\n"
   ]
  },
  {
   "cell_type": "markdown",
   "metadata": {},
   "source": [
    "# Day 7"
   ]
  },
  {
   "cell_type": "code",
   "execution_count": 17,
   "metadata": {},
   "outputs": [],
   "source": [
    "lien_fichier = 'C:\\\\Python\\\\Advent_of_code_2024\\\\Input_Data\\\\Day_7.txt'\n",
    "\n",
    "def lire_fich_txt(lien_fichier):\n",
    "    equ = []\n",
    "    with open(lien_fichier, 'r') as fichier:\n",
    "        for ligne in fichier:\n",
    "            cible, nbrs = ligne.strip().split(\":\")\n",
    "            cible = int(cible)\n",
    "            nbrs = list(map(int, nbrs.strip().split()))\n",
    "            equ.append((cible, nbrs))\n",
    "    return equ\n",
    "\n",
    "equ = lire_fich_txt(lien_fichier)"
   ]
  },
  {
   "cell_type": "markdown",
   "metadata": {},
   "source": [
    "## Part1"
   ]
  },
  {
   "cell_type": "code",
   "execution_count": 18,
   "metadata": {},
   "outputs": [
    {
     "data": {
      "text/plain": [
       "259425306213"
      ]
     },
     "execution_count": 18,
     "metadata": {},
     "output_type": "execute_result"
    }
   ],
   "source": [
    "from itertools import product\n",
    "\n",
    "def eval_exp(nbrs,ops):\n",
    "    resul = nbrs[0]\n",
    "    for i, op in enumerate(ops):\n",
    "        if op == \"+\":\n",
    "            resul = nbrs[i + 1]\n",
    "        elif op == \"*\":\n",
    "            resul *= nbrs[i + 1]\n",
    "    return resul\n",
    "\n",
    "def equ_valide(cible, nbrs):\n",
    "    comb = product([\"+\", \"*\"], repeat=len(nbrs) - 1)\n",
    "    for ops in comb:\n",
    "        if eval_exp(nbrs, ops) == cible:\n",
    "            return True\n",
    "    return False\n",
    "\n",
    "def cal_somme_equ_valides(equ):\n",
    "    somme = 0\n",
    "    for cible, nbrs in equ:\n",
    "        if equ_valide(cible, nbrs):\n",
    "            somme += cible\n",
    "    return somme\n",
    "\n",
    "resulta = cal_somme_equ_valides(equ)\n",
    "resulta"
   ]
  },
  {
   "cell_type": "markdown",
   "metadata": {},
   "source": [
    "## Part2"
   ]
  },
  {
   "cell_type": "code",
   "execution_count": 19,
   "metadata": {},
   "outputs": [
    {
     "data": {
      "text/plain": [
       "145397611075341"
      ]
     },
     "execution_count": 19,
     "metadata": {},
     "output_type": "execute_result"
    }
   ],
   "source": [
    "from itertools import product\n",
    "\n",
    "\n",
    "def eval_exp(nbrs, ops):\n",
    "    resul = nbrs[0]\n",
    "    for i, op in enumerate(ops):\n",
    "        if op == \"+\":\n",
    "            resul += nbrs[i + 1]\n",
    "        elif op == \"*\":\n",
    "            resul *= nbrs[i + 1]\n",
    "        elif op == \"||\":\n",
    "            resul = int(str(resul) + str(nbrs[i + 1]))\n",
    "    return resul\n",
    "\n",
    "def est_equ_valide(cible, nbrs):\n",
    "    comb = product([\"+\", \"*\", \"||\"], repeat=len(nbrs) - 1)\n",
    "    for ops in comb:\n",
    "        if eval_exp(nbrs, ops) == cible:\n",
    "            return True\n",
    "    return False\n",
    "\n",
    "def cal_somme_equ_valides(equ):\n",
    "    somme = 0\n",
    "    for cible, nbrs in equ:\n",
    "        if est_equ_valide(cible, nbrs):\n",
    "            somme += cible\n",
    "    return somme\n",
    "\n",
    "resulta = cal_somme_equ_valides(equ)\n",
    "resulta"
   ]
  },
  {
   "cell_type": "markdown",
   "metadata": {},
   "source": [
    "# Day 8"
   ]
  },
  {
   "cell_type": "code",
   "execution_count": 20,
   "metadata": {},
   "outputs": [],
   "source": [
    "\n",
    "lien_fichier = 'C:\\\\Python\\\\Advent_of_code_2024\\\\Input_Data\\\\Day_8.txt'\n",
    "with open(lien_fichier, 'r', encoding='utf-8') as f:\n",
    "    lgns_crt = [ligne.rstrip('\\n') for ligne in f]"
   ]
  },
  {
   "cell_type": "markdown",
   "metadata": {},
   "source": [
    "## Part1"
   ]
  },
  {
   "cell_type": "code",
   "execution_count": 21,
   "metadata": {},
   "outputs": [
    {
     "data": {
      "text/plain": [
       "244"
      ]
     },
     "execution_count": 21,
     "metadata": {},
     "output_type": "execute_result"
    }
   ],
   "source": [
    "from math import gcd\n",
    "\n",
    "def cal_ant_noeuds_part1(lgns_crt):\n",
    "    htr = len(lgns_crt)\n",
    "    lgr = len(lgns_crt[0]) if htr > 0 else 0\n",
    "\n",
    "    freqs = {}\n",
    "    for y, ligne in enumerate(lgns_crt):\n",
    "        for x, caract in enumerate(ligne):\n",
    "            if caract != '.':\n",
    "                if caract not in freqs:\n",
    "                    freqs[caract] = []\n",
    "                freqs[caract].append((x, y))\n",
    "\n",
    "    ant_noeuds = set()\n",
    "\n",
    "    for freq, poss in freqs.items():\n",
    "        n = len(poss)\n",
    "        for i in range(n):\n",
    "            for j in range(i+1, n):\n",
    "                x1, y1 = poss[i]\n",
    "                x2, y2 = poss[j]\n",
    "\n",
    "                q1x, q1y = 2*x2 - x1, 2*y2 - y1\n",
    "                q2x, q2y = 2*x1 - x2, 2*y1 - y2\n",
    "\n",
    "                if 0 <= q1x < lgr and 0 <= q1y < htr:\n",
    "                    ant_noeuds.add((q1x, q1y))\n",
    "                if 0 <= q2x < lgr and 0 <= q2y < htr:\n",
    "                    ant_noeuds.add((q2x, q2y))\n",
    "\n",
    "    return len(ant_noeuds)\n",
    "\n",
    "resulta = cal_ant_noeuds_part1(lgns_crt)\n",
    "resulta\n"
   ]
  },
  {
   "cell_type": "markdown",
   "metadata": {},
   "source": [
    "## Part2"
   ]
  },
  {
   "cell_type": "code",
   "execution_count": 22,
   "metadata": {},
   "outputs": [
    {
     "data": {
      "text/plain": [
       "912"
      ]
     },
     "execution_count": 22,
     "metadata": {},
     "output_type": "execute_result"
    }
   ],
   "source": [
    "def cal_ant_noeuds_part2(lgns_crt):\n",
    "    htr = len(lgns_crt)\n",
    "    lgr = len(lgns_crt[0]) if htr > 0 else 0\n",
    "\n",
    "    freqs = {} \n",
    "    for y, ligne in enumerate(lgns_crt):\n",
    "        for x, caract in enumerate(ligne):\n",
    "            if caract != '.':\n",
    "                if caract not in freqs:\n",
    "                    freqs[caract] = []\n",
    "                freqs[caract].append((x, y))\n",
    "\n",
    "    ant_noeuds = set()\n",
    "\n",
    "    for freq, poss in freqs.items():\n",
    "        if len(poss) < 2:\n",
    "            continue\n",
    "\n",
    "        n = len(poss)\n",
    "        for i in range(n):\n",
    "            for j in range(i+1, n):\n",
    "                x1, y1 = poss[i]\n",
    "                x2, y2 = poss[j]\n",
    "\n",
    "                dx = x2 - x1\n",
    "                dy = y2 - y1\n",
    "                g = gcd(dx, dy) \n",
    "                dxp = dx // g\n",
    "                dyp = dy // g\n",
    "                k = 0\n",
    "                while True:\n",
    "                    xk = x1 + k * dxp\n",
    "                    yk = y1 + k * dyp\n",
    "                    if 0 <= xk < lgr and 0 <= yk < htr:\n",
    "                        ant_noeuds.add((xk, yk))\n",
    "                        k += 1\n",
    "                    else:\n",
    "                        break\n",
    "                k = -1\n",
    "                while True:\n",
    "                    xk = x1 + k * dxp\n",
    "                    yk = y1 + k * dyp\n",
    "                    if 0 <= xk < lgr and 0 <= yk < htr:\n",
    "                        ant_noeuds.add((xk, yk))\n",
    "                        k -= 1\n",
    "                    else:\n",
    "                        break\n",
    "    return len(ant_noeuds)\n",
    "\n",
    "resulta = cal_ant_noeuds_part2(lgns_crt)\n",
    "resulta"
   ]
  },
  {
   "cell_type": "markdown",
   "metadata": {},
   "source": [
    "# Day 9"
   ]
  },
  {
   "cell_type": "code",
   "execution_count": 23,
   "metadata": {},
   "outputs": [],
   "source": [
    "lien_fichier = 'C:\\\\Python\\\\Advent_of_code_2024\\\\Input_Data\\\\Day_9.txt'\n",
    "texte = open(lien_fichier).read()\n",
    "nbrs = [int(c) for c in texte.strip()]"
   ]
  },
  {
   "cell_type": "markdown",
   "metadata": {},
   "source": [
    "## Part1"
   ]
  },
  {
   "cell_type": "code",
   "execution_count": 24,
   "metadata": {},
   "outputs": [
    {
     "data": {
      "text/plain": [
       "6323641412437"
      ]
     },
     "execution_count": 24,
     "metadata": {},
     "output_type": "execute_result"
    }
   ],
   "source": [
    "def cal_checksum(nbrs):\n",
    "    disq = []\n",
    "    id_fich = 0\n",
    "    for i in range(0, len(nbrs)):\n",
    "        if i % 2 == 0: \n",
    "            disq.extend([id_fich] * nbrs[i])\n",
    "            id_fich += 1\n",
    "        else: \n",
    "            disq.extend([-1] * nbrs[i]) \n",
    "\n",
    "    while True:\n",
    "        pos_esp = -1\n",
    "        for i in range(len(disq)):\n",
    "            if disq[i] == -1:\n",
    "                pos_esp = i\n",
    "                break\n",
    "\n",
    "        if pos_esp == -1: \n",
    "            break\n",
    "\n",
    "        pos_fich = -1\n",
    "        for i in range(len(disq)-1, pos_esp, -1):\n",
    "            if disq[i] != -1:\n",
    "                pos_fich = i\n",
    "                break\n",
    "\n",
    "        if pos_fich == -1: \n",
    "            break\n",
    "\n",
    "        disq[pos_esp] = disq[pos_fich]\n",
    "        disq[pos_fich] = -1\n",
    "\n",
    "    checksum = 0\n",
    "    for pos, block in enumerate(disq):\n",
    "        if block != -1:\n",
    "            checksum += pos * block\n",
    "    return checksum\n",
    "\n",
    "resulta = cal_checksum(nbrs)\n",
    "resulta\n"
   ]
  },
  {
   "cell_type": "markdown",
   "metadata": {},
   "source": [
    "## Part2"
   ]
  },
  {
   "cell_type": "code",
   "execution_count": 25,
   "metadata": {},
   "outputs": [
    {
     "data": {
      "text/plain": [
       "6351801932670"
      ]
     },
     "execution_count": 25,
     "metadata": {},
     "output_type": "execute_result"
    }
   ],
   "source": [
    "def parse_disq(nbrs):\n",
    "    disq = []\n",
    "    id_fich = 0\n",
    "    for i in range(len(nbrs)):\n",
    "        if i % 2 == 0:\n",
    "            disq.extend([id_fich] * nbrs[i])\n",
    "            id_fich += 1\n",
    "        else:\n",
    "            disq.extend([-1] * nbrs[i])\n",
    "    return disq, id_fich \n",
    "\n",
    "def find_files(disq, total_files):\n",
    "\n",
    "    info_fich = []\n",
    "    current_id_fich = None\n",
    "    start_pos = None\n",
    "    length = 0\n",
    "    pos_pos = [None] * total_files\n",
    "\n",
    "    for i, block in enumerate(disq):\n",
    "        if block == -1:\n",
    "            continue\n",
    "        if pos_pos[block] is None:\n",
    "            pos_pos[block] = [i, 1]\n",
    "        else:\n",
    "            pos_pos[block][1] += 1\n",
    "    for fid in range(total_files):\n",
    "        start, length = pos_pos[fid]\n",
    "        info_fich.append((fid, start, length))\n",
    "\n",
    "    return info_fich\n",
    "\n",
    "def find_space_for_file(disq, file_start, file_length):\n",
    "    free_count = 0\n",
    "    free_start = -1\n",
    "    best_start = -1\n",
    "\n",
    "    for i in range(file_start):\n",
    "        if disq[i] == -1:\n",
    "            if free_count == 0:\n",
    "                free_start = i\n",
    "            free_count += 1\n",
    "            if free_count >= file_length:\n",
    "                best_start = free_start\n",
    "                break\n",
    "        else:\n",
    "            free_count = 0\n",
    "            free_start = -1\n",
    "    \n",
    "    return best_start\n",
    "\n",
    "def move_file(disq, id_fich, start, length):\n",
    "    new_start = find_space_for_file(disq, start, length)\n",
    "    if new_start == -1:\n",
    "        return\n",
    "    pos_pos = [i for i in range(start, start+length)]\n",
    "    for pos in pos_pos:\n",
    "        disq[pos] = -1\n",
    "    for i in range(length):\n",
    "        disq[new_start + i] = id_fich\n",
    "\n",
    "def compute_checksum(disq):\n",
    "    checksum = 0\n",
    "    for pos, block in enumerate(disq):\n",
    "        if block != -1:\n",
    "            checksum += pos * block\n",
    "    return checksum\n",
    "\n",
    "\n",
    "disq, total_files = parse_disq(nbrs)\n",
    "\n",
    "info_fich = find_files(disq, total_files)\n",
    "info_fich.sort(key=lambda x: x[0], reverse=True)\n",
    "for id_fich, start, length in info_fich:\n",
    "    move_file(disq, id_fich, start, length)\n",
    "\n",
    "resulta = compute_checksum(disq)\n",
    "resulta\n"
   ]
  },
  {
   "cell_type": "markdown",
   "metadata": {},
   "source": [
    "# Day 10"
   ]
  },
  {
   "cell_type": "code",
   "execution_count": 41,
   "metadata": {},
   "outputs": [
    {
     "data": {
      "text/plain": [
       "array([[0, 3, 4, ..., 5, 6, 5],\n",
       "       [1, 2, 5, ..., 4, 3, 4],\n",
       "       [7, 8, 7, ..., 1, 2, 1],\n",
       "       ...,\n",
       "       [7, 6, 3, ..., 8, 7, 8],\n",
       "       [4, 5, 4, ..., 9, 6, 7],\n",
       "       [5, 6, 5, ..., 4, 5, 6]])"
      ]
     },
     "execution_count": 41,
     "metadata": {},
     "output_type": "execute_result"
    }
   ],
   "source": [
    "import numpy as np\n",
    "\n",
    "lien_fichier = 'C:\\\\Python\\\\Advent_of_code_2024\\\\Input_Data\\\\Day_10.txt'\n",
    "with open(lien_fichier, 'r') as file:\n",
    "    lgns = file.readlines()\n",
    "\n",
    "topographic_map = np.array([list(map(int, lgn.strip())) for lgn in lgns])\n",
    "topographic_map\n"
   ]
  },
  {
   "cell_type": "markdown",
   "metadata": {},
   "source": [
    "## Part1"
   ]
  },
  {
   "cell_type": "code",
   "execution_count": 46,
   "metadata": {},
   "outputs": [
    {
     "data": {
      "text/plain": [
       "794"
      ]
     },
     "execution_count": 46,
     "metadata": {},
     "output_type": "execute_result"
    }
   ],
   "source": [
    "from collections import deque\n",
    "\n",
    "def cal_score_dep(map_data):\n",
    "    lignes, cols = map_data.shape\n",
    "    directs = [(-1, 0), (1, 0), (0, -1), (0, 1)] \n",
    "    scores = []\n",
    "\n",
    "    for r in range(lignes):\n",
    "        for c in range(cols):\n",
    "            if map_data[r, c] == 0:\n",
    "                visit = set()\n",
    "                queue = deque([(r, c, 0)]) \n",
    "                neuf_acces = set()\n",
    "\n",
    "                while queue:\n",
    "                    x, y, altitude = queue.popleft()\n",
    "\n",
    "                    if map_data[x, y] == 9:\n",
    "                        neuf_acces.add((x, y))\n",
    "                        continue\n",
    "\n",
    "                    visit.add((x, y))\n",
    "\n",
    "                    for dr, dc in directs:\n",
    "                        nx, ny = x + dr, y + dc\n",
    "                        if 0 <= nx < lignes and 0 <= ny < cols and (nx, ny) not in visit:\n",
    "                            if map_data[nx, ny] == altitude + 1:\n",
    "                                queue.append((nx, ny, map_data[nx, ny]))\n",
    "\n",
    "                scores.append(len(neuf_acces))\n",
    "    return scores\n",
    "\n",
    "resulta = sum(cal_score_dep(topographic_map))\n",
    "resulta\n"
   ]
  },
  {
   "cell_type": "markdown",
   "metadata": {},
   "source": [
    "## Part2"
   ]
  },
  {
   "cell_type": "code",
   "execution_count": null,
   "metadata": {},
   "outputs": [],
   "source": [
    "def cal_cotes(map_data):\n",
    "    lignes, cols = map_data.shape\n",
    "    directs = [(-1, 0), (1, 0), (0, -1), (0, 1)] \n",
    "    cotes_tot = 0"
   ]
  }
 ],
 "metadata": {
  "kernelspec": {
   "display_name": "base",
   "language": "python",
   "name": "python3"
  },
  "language_info": {
   "codemirror_mode": {
    "name": "ipython",
    "version": 3
   },
   "file_extension": ".py",
   "mimetype": "text/x-python",
   "name": "python",
   "nbconvert_exporter": "python",
   "pygments_lexer": "ipython3",
   "version": "3.11.5"
  }
 },
 "nbformat": 4,
 "nbformat_minor": 2
}
